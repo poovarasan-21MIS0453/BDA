{
 "cells": [
  {
   "cell_type": "code",
   "execution_count": 1,
   "id": "fbed158d",
   "metadata": {
    "execution": {
     "iopub.execute_input": "2024-09-28T20:04:13.343796Z",
     "iopub.status.busy": "2024-09-28T20:04:13.343234Z",
     "iopub.status.idle": "2024-09-28T20:04:16.014298Z",
     "shell.execute_reply": "2024-09-28T20:04:16.013029Z"
    },
    "id": "fbed158d",
    "papermill": {
     "duration": 2.679815,
     "end_time": "2024-09-28T20:04:16.017039",
     "exception": false,
     "start_time": "2024-09-28T20:04:13.337224",
     "status": "completed"
    },
    "tags": []
   },
   "outputs": [],
   "source": [
    "# Importing necessary libraries\n",
    "import pandas as pd\n",
    "import numpy as np\n",
    "import matplotlib.pyplot as plt\n",
    "import seaborn as sns\n",
    "import json\n",
    "import warnings\n",
    "warnings.filterwarnings('ignore')"
   ]
  },
  {
   "cell_type": "markdown",
   "id": "5d8fd9d5",
   "metadata": {
    "id": "5d8fd9d5",
    "papermill": {
     "duration": 0.005812,
     "end_time": "2024-09-28T20:04:16.027545",
     "exception": false,
     "start_time": "2024-09-28T20:04:16.021733",
     "status": "completed"
    },
    "tags": []
   },
   "source": [
    "## Loading the Data\n",
    "Let's start by loading the various datasets provided."
   ]
  },
  {
   "cell_type": "code",
   "execution_count": 2,
   "id": "ef283042",
   "metadata": {
    "execution": {
     "iopub.execute_input": "2024-09-28T20:04:16.038870Z",
     "iopub.status.busy": "2024-09-28T20:04:16.038315Z",
     "iopub.status.idle": "2024-09-28T20:04:16.115389Z",
     "shell.execute_reply": "2024-09-28T20:04:16.114182Z"
    },
    "id": "ef283042",
    "papermill": {
     "duration": 0.085623,
     "end_time": "2024-09-28T20:04:16.118102",
     "exception": false,
     "start_time": "2024-09-28T20:04:16.032479",
     "status": "completed"
    },
    "tags": []
   },
   "outputs": [],
   "source": [
    "# Loading CSV files\n",
    "df_batting = pd.read_csv('df_batting.csv')\n",
    "df_bowling = pd.read_csv('df_bowling.csv')\n",
    "df_match = pd.read_csv('df_match.csv')\n",
    "df_players = pd.read_csv('df_batting.csv')\n",
    "\n",
    "# Loading JSON files\n",
    "with open('t20_wc_player_info.json') as f:\n",
    "    t20_wc_player_info = json.load(f)\n",
    "\n",
    "with open('t20_wc_bowling_summary.json') as f:\n",
    "    t20_wc_bowling_summary = json.load(f)\n",
    "\n",
    "with open('t20_wc_batting_summary.json') as f:\n",
    "    t20_wc_batting_summary = json.load(f)\n",
    "\n",
    "with open('t20_wc_match_results.json') as f:\n",
    "    t20_wc_match_results = json.load(f)"
   ]
  },
  {
   "cell_type": "markdown",
   "id": "92faaae1",
   "metadata": {
    "id": "92faaae1",
    "papermill": {
     "duration": 0.004163,
     "end_time": "2024-09-28T20:04:16.126996",
     "exception": false,
     "start_time": "2024-09-28T20:04:16.122833",
     "status": "completed"
    },
    "tags": []
   },
   "source": [
    "## Data Overview\n",
    "Let's take a quick look at the structure of each dataset."
   ]
  },
  {
   "cell_type": "code",
   "execution_count": 3,
   "id": "f423d73a",
   "metadata": {
    "colab": {
     "base_uri": "https://localhost:8080/",
     "height": 206
    },
    "execution": {
     "iopub.execute_input": "2024-09-28T20:04:16.138229Z",
     "iopub.status.busy": "2024-09-28T20:04:16.137385Z",
     "iopub.status.idle": "2024-09-28T20:04:16.161677Z",
     "shell.execute_reply": "2024-09-28T20:04:16.160369Z"
    },
    "executionInfo": {
     "elapsed": 66,
     "status": "ok",
     "timestamp": 1730641270370,
     "user": {
      "displayName": "Poovarasan",
      "userId": "14734910585636785128"
     },
     "user_tz": -330
    },
    "id": "f423d73a",
    "outputId": "853eeafd-5607-4ee7-f7a1-3e1b2dcfcdea",
    "papermill": {
     "duration": 0.032676,
     "end_time": "2024-09-28T20:04:16.164335",
     "exception": false,
     "start_time": "2024-09-28T20:04:16.131659",
     "status": "completed"
    },
    "tags": []
   },
   "outputs": [
    {
     "data": {
      "text/html": [
       "<div>\n",
       "<style scoped>\n",
       "    .dataframe tbody tr th:only-of-type {\n",
       "        vertical-align: middle;\n",
       "    }\n",
       "\n",
       "    .dataframe tbody tr th {\n",
       "        vertical-align: top;\n",
       "    }\n",
       "\n",
       "    .dataframe thead th {\n",
       "        text-align: right;\n",
       "    }\n",
       "</style>\n",
       "<table border=\"1\" class=\"dataframe\">\n",
       "  <thead>\n",
       "    <tr style=\"text-align: right;\">\n",
       "      <th></th>\n",
       "      <th>match</th>\n",
       "      <th>teamInnings</th>\n",
       "      <th>battingPos</th>\n",
       "      <th>batsmanName</th>\n",
       "      <th>runs</th>\n",
       "      <th>balls</th>\n",
       "      <th>4s</th>\n",
       "      <th>6s</th>\n",
       "      <th>SR</th>\n",
       "      <th>out/not_out</th>\n",
       "      <th>match_id</th>\n",
       "    </tr>\n",
       "  </thead>\n",
       "  <tbody>\n",
       "    <tr>\n",
       "      <th>0</th>\n",
       "      <td>Namibia Vs Sri Lanka</td>\n",
       "      <td>Namibia</td>\n",
       "      <td>1</td>\n",
       "      <td>Michael van Lingen</td>\n",
       "      <td>3</td>\n",
       "      <td>6</td>\n",
       "      <td>0</td>\n",
       "      <td>0</td>\n",
       "      <td>50.00</td>\n",
       "      <td>out</td>\n",
       "      <td>T20I # 1823</td>\n",
       "    </tr>\n",
       "    <tr>\n",
       "      <th>1</th>\n",
       "      <td>Namibia Vs Sri Lanka</td>\n",
       "      <td>Namibia</td>\n",
       "      <td>2</td>\n",
       "      <td>Divan la Cock</td>\n",
       "      <td>9</td>\n",
       "      <td>9</td>\n",
       "      <td>1</td>\n",
       "      <td>0</td>\n",
       "      <td>100.00</td>\n",
       "      <td>out</td>\n",
       "      <td>T20I # 1823</td>\n",
       "    </tr>\n",
       "    <tr>\n",
       "      <th>2</th>\n",
       "      <td>Namibia Vs Sri Lanka</td>\n",
       "      <td>Namibia</td>\n",
       "      <td>3</td>\n",
       "      <td>Jan Nicol Loftie-Eaton</td>\n",
       "      <td>20</td>\n",
       "      <td>12</td>\n",
       "      <td>1</td>\n",
       "      <td>2</td>\n",
       "      <td>166.66</td>\n",
       "      <td>out</td>\n",
       "      <td>T20I # 1823</td>\n",
       "    </tr>\n",
       "    <tr>\n",
       "      <th>3</th>\n",
       "      <td>Namibia Vs Sri Lanka</td>\n",
       "      <td>Namibia</td>\n",
       "      <td>4</td>\n",
       "      <td>Stephan Baard</td>\n",
       "      <td>26</td>\n",
       "      <td>24</td>\n",
       "      <td>2</td>\n",
       "      <td>0</td>\n",
       "      <td>108.33</td>\n",
       "      <td>out</td>\n",
       "      <td>T20I # 1823</td>\n",
       "    </tr>\n",
       "    <tr>\n",
       "      <th>4</th>\n",
       "      <td>Namibia Vs Sri Lanka</td>\n",
       "      <td>Namibia</td>\n",
       "      <td>5</td>\n",
       "      <td>Gerhard Erasmus(c)</td>\n",
       "      <td>20</td>\n",
       "      <td>24</td>\n",
       "      <td>0</td>\n",
       "      <td>0</td>\n",
       "      <td>83.33</td>\n",
       "      <td>out</td>\n",
       "      <td>T20I # 1823</td>\n",
       "    </tr>\n",
       "  </tbody>\n",
       "</table>\n",
       "</div>"
      ],
      "text/plain": [
       "                  match teamInnings  battingPos             batsmanName  runs  \\\n",
       "0  Namibia Vs Sri Lanka     Namibia           1      Michael van Lingen     3   \n",
       "1  Namibia Vs Sri Lanka     Namibia           2           Divan la Cock     9   \n",
       "2  Namibia Vs Sri Lanka     Namibia           3  Jan Nicol Loftie-Eaton    20   \n",
       "3  Namibia Vs Sri Lanka     Namibia           4           Stephan Baard    26   \n",
       "4  Namibia Vs Sri Lanka     Namibia           5      Gerhard Erasmus(c)    20   \n",
       "\n",
       "   balls  4s  6s      SR out/not_out     match_id  \n",
       "0      6   0   0   50.00         out  T20I # 1823  \n",
       "1      9   1   0  100.00         out  T20I # 1823  \n",
       "2     12   1   2  166.66         out  T20I # 1823  \n",
       "3     24   2   0  108.33         out  T20I # 1823  \n",
       "4     24   0   0   83.33         out  T20I # 1823  "
      ]
     },
     "execution_count": 3,
     "metadata": {},
     "output_type": "execute_result"
    }
   ],
   "source": [
    "# Displaying the first few rows of each DataFrame\n",
    "df_players.head()"
   ]
  },
  {
   "cell_type": "code",
   "execution_count": 4,
   "id": "f7235094",
   "metadata": {
    "colab": {
     "base_uri": "https://localhost:8080/",
     "height": 206
    },
    "execution": {
     "iopub.execute_input": "2024-09-28T20:04:16.175960Z",
     "iopub.status.busy": "2024-09-28T20:04:16.175527Z",
     "iopub.status.idle": "2024-09-28T20:04:16.195944Z",
     "shell.execute_reply": "2024-09-28T20:04:16.194557Z"
    },
    "executionInfo": {
     "elapsed": 65,
     "status": "ok",
     "timestamp": 1730641270371,
     "user": {
      "displayName": "Poovarasan",
      "userId": "14734910585636785128"
     },
     "user_tz": -330
    },
    "id": "f7235094",
    "outputId": "2ca15958-b38e-46a2-e20f-2a779f68c4ce",
    "papermill": {
     "duration": 0.029227,
     "end_time": "2024-09-28T20:04:16.198652",
     "exception": false,
     "start_time": "2024-09-28T20:04:16.169425",
     "status": "completed"
    },
    "tags": []
   },
   "outputs": [
    {
     "data": {
      "text/html": [
       "<div>\n",
       "<style scoped>\n",
       "    .dataframe tbody tr th:only-of-type {\n",
       "        vertical-align: middle;\n",
       "    }\n",
       "\n",
       "    .dataframe tbody tr th {\n",
       "        vertical-align: top;\n",
       "    }\n",
       "\n",
       "    .dataframe thead th {\n",
       "        text-align: right;\n",
       "    }\n",
       "</style>\n",
       "<table border=\"1\" class=\"dataframe\">\n",
       "  <thead>\n",
       "    <tr style=\"text-align: right;\">\n",
       "      <th></th>\n",
       "      <th>match</th>\n",
       "      <th>bowlingTeam</th>\n",
       "      <th>bowlerName</th>\n",
       "      <th>overs</th>\n",
       "      <th>maiden</th>\n",
       "      <th>runs</th>\n",
       "      <th>wickets</th>\n",
       "      <th>economy</th>\n",
       "      <th>0s</th>\n",
       "      <th>4s</th>\n",
       "      <th>6s</th>\n",
       "      <th>wides</th>\n",
       "      <th>noBalls</th>\n",
       "      <th>match_id</th>\n",
       "    </tr>\n",
       "  </thead>\n",
       "  <tbody>\n",
       "    <tr>\n",
       "      <th>0</th>\n",
       "      <td>Namibia Vs Sri Lanka</td>\n",
       "      <td>Sri Lanka</td>\n",
       "      <td>Maheesh Theekshana</td>\n",
       "      <td>4.0</td>\n",
       "      <td>0</td>\n",
       "      <td>23</td>\n",
       "      <td>1</td>\n",
       "      <td>5.75</td>\n",
       "      <td>7</td>\n",
       "      <td>0</td>\n",
       "      <td>0</td>\n",
       "      <td>2</td>\n",
       "      <td>0</td>\n",
       "      <td>T20I # 1823</td>\n",
       "    </tr>\n",
       "    <tr>\n",
       "      <th>1</th>\n",
       "      <td>Namibia Vs Sri Lanka</td>\n",
       "      <td>Sri Lanka</td>\n",
       "      <td>Dushmantha Chameera</td>\n",
       "      <td>4.0</td>\n",
       "      <td>0</td>\n",
       "      <td>39</td>\n",
       "      <td>1</td>\n",
       "      <td>9.75</td>\n",
       "      <td>6</td>\n",
       "      <td>3</td>\n",
       "      <td>1</td>\n",
       "      <td>2</td>\n",
       "      <td>0</td>\n",
       "      <td>T20I # 1823</td>\n",
       "    </tr>\n",
       "    <tr>\n",
       "      <th>2</th>\n",
       "      <td>Namibia Vs Sri Lanka</td>\n",
       "      <td>Sri Lanka</td>\n",
       "      <td>Pramod Madushan</td>\n",
       "      <td>4.0</td>\n",
       "      <td>0</td>\n",
       "      <td>37</td>\n",
       "      <td>2</td>\n",
       "      <td>9.25</td>\n",
       "      <td>6</td>\n",
       "      <td>3</td>\n",
       "      <td>1</td>\n",
       "      <td>0</td>\n",
       "      <td>0</td>\n",
       "      <td>T20I # 1823</td>\n",
       "    </tr>\n",
       "    <tr>\n",
       "      <th>3</th>\n",
       "      <td>Namibia Vs Sri Lanka</td>\n",
       "      <td>Sri Lanka</td>\n",
       "      <td>Chamika Karunaratne</td>\n",
       "      <td>4.0</td>\n",
       "      <td>0</td>\n",
       "      <td>36</td>\n",
       "      <td>1</td>\n",
       "      <td>9.00</td>\n",
       "      <td>7</td>\n",
       "      <td>3</td>\n",
       "      <td>1</td>\n",
       "      <td>1</td>\n",
       "      <td>0</td>\n",
       "      <td>T20I # 1823</td>\n",
       "    </tr>\n",
       "    <tr>\n",
       "      <th>4</th>\n",
       "      <td>Namibia Vs Sri Lanka</td>\n",
       "      <td>Sri Lanka</td>\n",
       "      <td>Wanindu Hasaranga de Silva</td>\n",
       "      <td>4.0</td>\n",
       "      <td>0</td>\n",
       "      <td>27</td>\n",
       "      <td>1</td>\n",
       "      <td>6.75</td>\n",
       "      <td>8</td>\n",
       "      <td>1</td>\n",
       "      <td>1</td>\n",
       "      <td>0</td>\n",
       "      <td>0</td>\n",
       "      <td>T20I # 1823</td>\n",
       "    </tr>\n",
       "  </tbody>\n",
       "</table>\n",
       "</div>"
      ],
      "text/plain": [
       "                  match bowlingTeam                  bowlerName  overs  \\\n",
       "0  Namibia Vs Sri Lanka   Sri Lanka          Maheesh Theekshana    4.0   \n",
       "1  Namibia Vs Sri Lanka   Sri Lanka         Dushmantha Chameera    4.0   \n",
       "2  Namibia Vs Sri Lanka   Sri Lanka             Pramod Madushan    4.0   \n",
       "3  Namibia Vs Sri Lanka   Sri Lanka         Chamika Karunaratne    4.0   \n",
       "4  Namibia Vs Sri Lanka   Sri Lanka  Wanindu Hasaranga de Silva    4.0   \n",
       "\n",
       "   maiden  runs  wickets  economy  0s  4s  6s  wides  noBalls     match_id  \n",
       "0       0    23        1     5.75   7   0   0      2        0  T20I # 1823  \n",
       "1       0    39        1     9.75   6   3   1      2        0  T20I # 1823  \n",
       "2       0    37        2     9.25   6   3   1      0        0  T20I # 1823  \n",
       "3       0    36        1     9.00   7   3   1      1        0  T20I # 1823  \n",
       "4       0    27        1     6.75   8   1   1      0        0  T20I # 1823  "
      ]
     },
     "execution_count": 4,
     "metadata": {},
     "output_type": "execute_result"
    }
   ],
   "source": [
    "df_bowling.head()"
   ]
  },
  {
   "cell_type": "code",
   "execution_count": 5,
   "id": "20724cc7",
   "metadata": {
    "colab": {
     "base_uri": "https://localhost:8080/",
     "height": 206
    },
    "execution": {
     "iopub.execute_input": "2024-09-28T20:04:16.210821Z",
     "iopub.status.busy": "2024-09-28T20:04:16.210388Z",
     "iopub.status.idle": "2024-09-28T20:04:16.225697Z",
     "shell.execute_reply": "2024-09-28T20:04:16.224503Z"
    },
    "executionInfo": {
     "elapsed": 65,
     "status": "ok",
     "timestamp": 1730641270372,
     "user": {
      "displayName": "Poovarasan",
      "userId": "14734910585636785128"
     },
     "user_tz": -330
    },
    "id": "20724cc7",
    "outputId": "43ac0266-65cd-44ac-b7dd-170300071617",
    "papermill": {
     "duration": 0.024281,
     "end_time": "2024-09-28T20:04:16.228142",
     "exception": false,
     "start_time": "2024-09-28T20:04:16.203861",
     "status": "completed"
    },
    "tags": []
   },
   "outputs": [
    {
     "data": {
      "text/html": [
       "<div>\n",
       "<style scoped>\n",
       "    .dataframe tbody tr th:only-of-type {\n",
       "        vertical-align: middle;\n",
       "    }\n",
       "\n",
       "    .dataframe tbody tr th {\n",
       "        vertical-align: top;\n",
       "    }\n",
       "\n",
       "    .dataframe thead th {\n",
       "        text-align: right;\n",
       "    }\n",
       "</style>\n",
       "<table border=\"1\" class=\"dataframe\">\n",
       "  <thead>\n",
       "    <tr style=\"text-align: right;\">\n",
       "      <th></th>\n",
       "      <th>team1</th>\n",
       "      <th>team2</th>\n",
       "      <th>winner</th>\n",
       "      <th>margin</th>\n",
       "      <th>ground</th>\n",
       "      <th>matchDate</th>\n",
       "      <th>match_id</th>\n",
       "    </tr>\n",
       "  </thead>\n",
       "  <tbody>\n",
       "    <tr>\n",
       "      <th>0</th>\n",
       "      <td>Namibia</td>\n",
       "      <td>Sri Lanka</td>\n",
       "      <td>Namibia</td>\n",
       "      <td>55 runs</td>\n",
       "      <td>Geelong</td>\n",
       "      <td>Oct 16, 2022</td>\n",
       "      <td>T20I # 1823</td>\n",
       "    </tr>\n",
       "    <tr>\n",
       "      <th>1</th>\n",
       "      <td>Netherlands</td>\n",
       "      <td>U.A.E.</td>\n",
       "      <td>Netherlands</td>\n",
       "      <td>3 wickets</td>\n",
       "      <td>Geelong</td>\n",
       "      <td>Oct 16, 2022</td>\n",
       "      <td>T20I # 1825</td>\n",
       "    </tr>\n",
       "    <tr>\n",
       "      <th>2</th>\n",
       "      <td>Scotland</td>\n",
       "      <td>West Indies</td>\n",
       "      <td>Scotland</td>\n",
       "      <td>42 runs</td>\n",
       "      <td>Hobart</td>\n",
       "      <td>Oct 17, 2022</td>\n",
       "      <td>T20I # 1826</td>\n",
       "    </tr>\n",
       "    <tr>\n",
       "      <th>3</th>\n",
       "      <td>Ireland</td>\n",
       "      <td>Zimbabwe</td>\n",
       "      <td>Zimbabwe</td>\n",
       "      <td>31 runs</td>\n",
       "      <td>Hobart</td>\n",
       "      <td>Oct 17, 2022</td>\n",
       "      <td>T20I # 1828</td>\n",
       "    </tr>\n",
       "    <tr>\n",
       "      <th>4</th>\n",
       "      <td>Namibia</td>\n",
       "      <td>Netherlands</td>\n",
       "      <td>Netherlands</td>\n",
       "      <td>5 wickets</td>\n",
       "      <td>Geelong</td>\n",
       "      <td>Oct 18, 2022</td>\n",
       "      <td>T20I # 1830</td>\n",
       "    </tr>\n",
       "  </tbody>\n",
       "</table>\n",
       "</div>"
      ],
      "text/plain": [
       "         team1        team2       winner     margin   ground     matchDate  \\\n",
       "0      Namibia    Sri Lanka      Namibia    55 runs  Geelong  Oct 16, 2022   \n",
       "1  Netherlands       U.A.E.  Netherlands  3 wickets  Geelong  Oct 16, 2022   \n",
       "2     Scotland  West Indies     Scotland    42 runs   Hobart  Oct 17, 2022   \n",
       "3      Ireland     Zimbabwe     Zimbabwe    31 runs   Hobart  Oct 17, 2022   \n",
       "4      Namibia  Netherlands  Netherlands  5 wickets  Geelong  Oct 18, 2022   \n",
       "\n",
       "      match_id  \n",
       "0  T20I # 1823  \n",
       "1  T20I # 1825  \n",
       "2  T20I # 1826  \n",
       "3  T20I # 1828  \n",
       "4  T20I # 1830  "
      ]
     },
     "execution_count": 5,
     "metadata": {},
     "output_type": "execute_result"
    }
   ],
   "source": [
    "df_match.head()"
   ]
  },
  {
   "cell_type": "code",
   "execution_count": 6,
   "id": "5810aabb",
   "metadata": {
    "colab": {
     "base_uri": "https://localhost:8080/",
     "height": 206
    },
    "execution": {
     "iopub.execute_input": "2024-09-28T20:04:16.241691Z",
     "iopub.status.busy": "2024-09-28T20:04:16.240735Z",
     "iopub.status.idle": "2024-09-28T20:04:16.256826Z",
     "shell.execute_reply": "2024-09-28T20:04:16.255576Z"
    },
    "executionInfo": {
     "elapsed": 64,
     "status": "ok",
     "timestamp": 1730641270373,
     "user": {
      "displayName": "Poovarasan",
      "userId": "14734910585636785128"
     },
     "user_tz": -330
    },
    "id": "5810aabb",
    "outputId": "c61051b9-dd1d-4eb3-e321-1c67c9fe913f",
    "papermill": {
     "duration": 0.025652,
     "end_time": "2024-09-28T20:04:16.259582",
     "exception": false,
     "start_time": "2024-09-28T20:04:16.233930",
     "status": "completed"
    },
    "tags": []
   },
   "outputs": [
    {
     "data": {
      "text/html": [
       "<div>\n",
       "<style scoped>\n",
       "    .dataframe tbody tr th:only-of-type {\n",
       "        vertical-align: middle;\n",
       "    }\n",
       "\n",
       "    .dataframe tbody tr th {\n",
       "        vertical-align: top;\n",
       "    }\n",
       "\n",
       "    .dataframe thead th {\n",
       "        text-align: right;\n",
       "    }\n",
       "</style>\n",
       "<table border=\"1\" class=\"dataframe\">\n",
       "  <thead>\n",
       "    <tr style=\"text-align: right;\">\n",
       "      <th></th>\n",
       "      <th>match</th>\n",
       "      <th>teamInnings</th>\n",
       "      <th>battingPos</th>\n",
       "      <th>batsmanName</th>\n",
       "      <th>runs</th>\n",
       "      <th>balls</th>\n",
       "      <th>4s</th>\n",
       "      <th>6s</th>\n",
       "      <th>SR</th>\n",
       "      <th>out/not_out</th>\n",
       "      <th>match_id</th>\n",
       "    </tr>\n",
       "  </thead>\n",
       "  <tbody>\n",
       "    <tr>\n",
       "      <th>0</th>\n",
       "      <td>Namibia Vs Sri Lanka</td>\n",
       "      <td>Namibia</td>\n",
       "      <td>1</td>\n",
       "      <td>Michael van Lingen</td>\n",
       "      <td>3</td>\n",
       "      <td>6</td>\n",
       "      <td>0</td>\n",
       "      <td>0</td>\n",
       "      <td>50.00</td>\n",
       "      <td>out</td>\n",
       "      <td>T20I # 1823</td>\n",
       "    </tr>\n",
       "    <tr>\n",
       "      <th>1</th>\n",
       "      <td>Namibia Vs Sri Lanka</td>\n",
       "      <td>Namibia</td>\n",
       "      <td>2</td>\n",
       "      <td>Divan la Cock</td>\n",
       "      <td>9</td>\n",
       "      <td>9</td>\n",
       "      <td>1</td>\n",
       "      <td>0</td>\n",
       "      <td>100.00</td>\n",
       "      <td>out</td>\n",
       "      <td>T20I # 1823</td>\n",
       "    </tr>\n",
       "    <tr>\n",
       "      <th>2</th>\n",
       "      <td>Namibia Vs Sri Lanka</td>\n",
       "      <td>Namibia</td>\n",
       "      <td>3</td>\n",
       "      <td>Jan Nicol Loftie-Eaton</td>\n",
       "      <td>20</td>\n",
       "      <td>12</td>\n",
       "      <td>1</td>\n",
       "      <td>2</td>\n",
       "      <td>166.66</td>\n",
       "      <td>out</td>\n",
       "      <td>T20I # 1823</td>\n",
       "    </tr>\n",
       "    <tr>\n",
       "      <th>3</th>\n",
       "      <td>Namibia Vs Sri Lanka</td>\n",
       "      <td>Namibia</td>\n",
       "      <td>4</td>\n",
       "      <td>Stephan Baard</td>\n",
       "      <td>26</td>\n",
       "      <td>24</td>\n",
       "      <td>2</td>\n",
       "      <td>0</td>\n",
       "      <td>108.33</td>\n",
       "      <td>out</td>\n",
       "      <td>T20I # 1823</td>\n",
       "    </tr>\n",
       "    <tr>\n",
       "      <th>4</th>\n",
       "      <td>Namibia Vs Sri Lanka</td>\n",
       "      <td>Namibia</td>\n",
       "      <td>5</td>\n",
       "      <td>Gerhard Erasmus(c)</td>\n",
       "      <td>20</td>\n",
       "      <td>24</td>\n",
       "      <td>0</td>\n",
       "      <td>0</td>\n",
       "      <td>83.33</td>\n",
       "      <td>out</td>\n",
       "      <td>T20I # 1823</td>\n",
       "    </tr>\n",
       "  </tbody>\n",
       "</table>\n",
       "</div>"
      ],
      "text/plain": [
       "                  match teamInnings  battingPos             batsmanName  runs  \\\n",
       "0  Namibia Vs Sri Lanka     Namibia           1      Michael van Lingen     3   \n",
       "1  Namibia Vs Sri Lanka     Namibia           2           Divan la Cock     9   \n",
       "2  Namibia Vs Sri Lanka     Namibia           3  Jan Nicol Loftie-Eaton    20   \n",
       "3  Namibia Vs Sri Lanka     Namibia           4           Stephan Baard    26   \n",
       "4  Namibia Vs Sri Lanka     Namibia           5      Gerhard Erasmus(c)    20   \n",
       "\n",
       "   balls  4s  6s      SR out/not_out     match_id  \n",
       "0      6   0   0   50.00         out  T20I # 1823  \n",
       "1      9   1   0  100.00         out  T20I # 1823  \n",
       "2     12   1   2  166.66         out  T20I # 1823  \n",
       "3     24   2   0  108.33         out  T20I # 1823  \n",
       "4     24   0   0   83.33         out  T20I # 1823  "
      ]
     },
     "execution_count": 6,
     "metadata": {},
     "output_type": "execute_result"
    }
   ],
   "source": [
    "df_batting.head()"
   ]
  },
  {
   "cell_type": "markdown",
   "id": "d7e949ce",
   "metadata": {
    "id": "d7e949ce",
    "papermill": {
     "duration": 0.006483,
     "end_time": "2024-09-28T20:04:16.272353",
     "exception": false,
     "start_time": "2024-09-28T20:04:16.265870",
     "status": "completed"
    },
    "tags": []
   },
   "source": [
    "## Exploratory Data Analysis (EDA)\n",
    "Let's start with some basic exploratory data analysis to understand the distributions and relationships in the data."
   ]
  },
  {
   "cell_type": "code",
   "execution_count": 7,
   "id": "cc249dcf",
   "metadata": {
    "colab": {
     "base_uri": "https://localhost:8080/",
     "height": 429
    },
    "execution": {
     "iopub.execute_input": "2024-09-28T20:04:16.285497Z",
     "iopub.status.busy": "2024-09-28T20:04:16.285104Z",
     "iopub.status.idle": "2024-09-28T20:04:16.295789Z",
     "shell.execute_reply": "2024-09-28T20:04:16.294421Z"
    },
    "executionInfo": {
     "elapsed": 63,
     "status": "ok",
     "timestamp": 1730641270374,
     "user": {
      "displayName": "Poovarasan",
      "userId": "14734910585636785128"
     },
     "user_tz": -330
    },
    "id": "cc249dcf",
    "outputId": "ac9db88c-b901-4868-8aa2-cf2d6000a459",
    "papermill": {
     "duration": 0.020159,
     "end_time": "2024-09-28T20:04:16.298208",
     "exception": false,
     "start_time": "2024-09-28T20:04:16.278049",
     "status": "completed"
    },
    "tags": []
   },
   "outputs": [
    {
     "data": {
      "text/plain": [
       "match          0\n",
       "teamInnings    0\n",
       "battingPos     0\n",
       "batsmanName    0\n",
       "runs           0\n",
       "balls          0\n",
       "4s             0\n",
       "6s             0\n",
       "SR             0\n",
       "out/not_out    0\n",
       "match_id       0\n",
       "dtype: int64"
      ]
     },
     "execution_count": 7,
     "metadata": {},
     "output_type": "execute_result"
    }
   ],
   "source": [
    "# Checking for missing values\n",
    "df_players.isnull().sum()"
   ]
  },
  {
   "cell_type": "code",
   "execution_count": 8,
   "id": "ca2908ef",
   "metadata": {
    "colab": {
     "base_uri": "https://localhost:8080/",
     "height": 523
    },
    "execution": {
     "iopub.execute_input": "2024-09-28T20:04:16.312706Z",
     "iopub.status.busy": "2024-09-28T20:04:16.311572Z",
     "iopub.status.idle": "2024-09-28T20:04:16.322901Z",
     "shell.execute_reply": "2024-09-28T20:04:16.321614Z"
    },
    "executionInfo": {
     "elapsed": 61,
     "status": "ok",
     "timestamp": 1730641270375,
     "user": {
      "displayName": "Poovarasan",
      "userId": "14734910585636785128"
     },
     "user_tz": -330
    },
    "id": "ca2908ef",
    "outputId": "297dcb99-2632-4d1c-fa5d-23c988fd3df0",
    "papermill": {
     "duration": 0.021373,
     "end_time": "2024-09-28T20:04:16.325569",
     "exception": false,
     "start_time": "2024-09-28T20:04:16.304196",
     "status": "completed"
    },
    "tags": []
   },
   "outputs": [
    {
     "data": {
      "text/plain": [
       "match          0\n",
       "bowlingTeam    0\n",
       "bowlerName     0\n",
       "overs          0\n",
       "maiden         0\n",
       "runs           0\n",
       "wickets        0\n",
       "economy        0\n",
       "0s             0\n",
       "4s             0\n",
       "6s             0\n",
       "wides          0\n",
       "noBalls        0\n",
       "match_id       0\n",
       "dtype: int64"
      ]
     },
     "execution_count": 8,
     "metadata": {},
     "output_type": "execute_result"
    }
   ],
   "source": [
    "df_bowling.isnull().sum()"
   ]
  },
  {
   "cell_type": "code",
   "execution_count": 9,
   "id": "3553231f",
   "metadata": {
    "colab": {
     "base_uri": "https://localhost:8080/",
     "height": 304
    },
    "execution": {
     "iopub.execute_input": "2024-09-28T20:04:16.339735Z",
     "iopub.status.busy": "2024-09-28T20:04:16.339218Z",
     "iopub.status.idle": "2024-09-28T20:04:16.348946Z",
     "shell.execute_reply": "2024-09-28T20:04:16.347523Z"
    },
    "executionInfo": {
     "elapsed": 59,
     "status": "ok",
     "timestamp": 1730641270375,
     "user": {
      "displayName": "Poovarasan",
      "userId": "14734910585636785128"
     },
     "user_tz": -330
    },
    "id": "3553231f",
    "outputId": "0a17a864-3045-4afe-9b73-b3f133dc0ac8",
    "papermill": {
     "duration": 0.019699,
     "end_time": "2024-09-28T20:04:16.351413",
     "exception": false,
     "start_time": "2024-09-28T20:04:16.331714",
     "status": "completed"
    },
    "tags": []
   },
   "outputs": [
    {
     "data": {
      "text/plain": [
       "team1        0\n",
       "team2        0\n",
       "winner       0\n",
       "margin       4\n",
       "ground       0\n",
       "matchDate    0\n",
       "match_id     0\n",
       "dtype: int64"
      ]
     },
     "execution_count": 9,
     "metadata": {},
     "output_type": "execute_result"
    }
   ],
   "source": [
    "df_match.isnull().sum()"
   ]
  },
  {
   "cell_type": "code",
   "execution_count": 10,
   "id": "09e189e2",
   "metadata": {
    "colab": {
     "base_uri": "https://localhost:8080/",
     "height": 429
    },
    "execution": {
     "iopub.execute_input": "2024-09-28T20:04:16.367372Z",
     "iopub.status.busy": "2024-09-28T20:04:16.366828Z",
     "iopub.status.idle": "2024-09-28T20:04:16.377752Z",
     "shell.execute_reply": "2024-09-28T20:04:16.376481Z"
    },
    "executionInfo": {
     "elapsed": 59,
     "status": "ok",
     "timestamp": 1730641270376,
     "user": {
      "displayName": "Poovarasan",
      "userId": "14734910585636785128"
     },
     "user_tz": -330
    },
    "id": "09e189e2",
    "outputId": "ba288762-cec3-485f-9f7e-0fba044bc0c5",
    "papermill": {
     "duration": 0.021887,
     "end_time": "2024-09-28T20:04:16.380717",
     "exception": false,
     "start_time": "2024-09-28T20:04:16.358830",
     "status": "completed"
    },
    "tags": []
   },
   "outputs": [
    {
     "data": {
      "text/plain": [
       "match          0\n",
       "teamInnings    0\n",
       "battingPos     0\n",
       "batsmanName    0\n",
       "runs           0\n",
       "balls          0\n",
       "4s             0\n",
       "6s             0\n",
       "SR             0\n",
       "out/not_out    0\n",
       "match_id       0\n",
       "dtype: int64"
      ]
     },
     "execution_count": 10,
     "metadata": {},
     "output_type": "execute_result"
    }
   ],
   "source": [
    "df_batting.isnull().sum()"
   ]
  },
  {
   "cell_type": "markdown",
   "id": "9f7a187f",
   "metadata": {
    "id": "9f7a187f",
    "papermill": {
     "duration": 0.006646,
     "end_time": "2024-09-28T20:04:16.394506",
     "exception": false,
     "start_time": "2024-09-28T20:04:16.387860",
     "status": "completed"
    },
    "tags": []
   },
   "source": [
    "### Distribution of Runs in Batting Data"
   ]
  },
  {
   "cell_type": "code",
   "execution_count": 11,
   "id": "0c8afc98",
   "metadata": {
    "colab": {
     "base_uri": "https://localhost:8080/",
     "height": 564
    },
    "execution": {
     "iopub.execute_input": "2024-09-28T20:04:16.409188Z",
     "iopub.status.busy": "2024-09-28T20:04:16.408781Z",
     "iopub.status.idle": "2024-09-28T20:04:16.830748Z",
     "shell.execute_reply": "2024-09-28T20:04:16.829669Z"
    },
    "executionInfo": {
     "elapsed": 897,
     "status": "ok",
     "timestamp": 1730641271216,
     "user": {
      "displayName": "Poovarasan",
      "userId": "14734910585636785128"
     },
     "user_tz": -330
    },
    "id": "0c8afc98",
    "outputId": "5b8247aa-c2c9-49cf-c0a9-6e9c8cd4c30e",
    "papermill": {
     "duration": 0.432857,
     "end_time": "2024-09-28T20:04:16.833718",
     "exception": false,
     "start_time": "2024-09-28T20:04:16.400861",
     "status": "completed"
    },
    "tags": []
   },
   "outputs": [
    {
     "data": {
      "image/png": "[encoded data removed]",
      "text/plain": [
       "<Figure size 1000x600 with 1 Axes>"
      ]
     },
     "metadata": {},
     "output_type": "display_data"
    }
   ],
   "source": [
    "plt.figure(figsize=(10, 6))\n",
    "sns.histplot(df_batting['runs'], bins=30, kde=True)\n",
    "plt.title('Distribution of Runs in Batting Data')\n",
    "plt.xlabel('Runs')\n",
    "plt.ylabel('Frequency')\n",
    "plt.show()"
   ]
  },
  {
   "cell_type": "markdown",
   "id": "373cf805",
   "metadata": {
    "id": "373cf805",
    "papermill": {
     "duration": 0.00669,
     "end_time": "2024-09-28T20:04:16.847493",
     "exception": false,
     "start_time": "2024-09-28T20:04:16.840803",
     "status": "completed"
    },
    "tags": []
   },
   "source": [
    "### Correlation Heatmap for Bowling Data\n",
    "Let's see if there are any interesting correlations in the bowling data."
   ]
  },
  {
   "cell_type": "code",
   "execution_count": 12,
   "id": "2a4e0876",
   "metadata": {
    "colab": {
     "base_uri": "https://localhost:8080/",
     "height": 699
    },
    "execution": {
     "iopub.execute_input": "2024-09-28T20:04:16.863036Z",
     "iopub.status.busy": "2024-09-28T20:04:16.862639Z",
     "iopub.status.idle": "2024-09-28T20:04:17.478334Z",
     "shell.execute_reply": "2024-09-28T20:04:17.477232Z"
    },
    "executionInfo": {
     "elapsed": 1525,
     "status": "ok",
     "timestamp": 1730641272726,
     "user": {
      "displayName": "Poovarasan",
      "userId": "14734910585636785128"
     },
     "user_tz": -330
    },
    "id": "2a4e0876",
    "outputId": "20771d52-f4cd-45f7-9f96-a9462c5e20a5",
    "papermill": {
     "duration": 0.626666,
     "end_time": "2024-09-28T20:04:17.481057",
     "exception": false,
     "start_time": "2024-09-28T20:04:16.854391",
     "status": "completed"
    },
    "tags": []
   },
   "outputs": [
    {
     "data": {
      "image/png": "[encoded data removed]",
      "text/plain": [
       "<Figure size 1200x800 with 2 Axes>"
      ]
     },
     "metadata": {},
     "output_type": "display_data"
    }
   ],
   "source": [
    "numeric_df = df_bowling.select_dtypes(include=[np.number])\n",
    "plt.figure(figsize=(12, 8))\n",
    "sns.heatmap(numeric_df.corr(), annot=True, cmap='coolwarm', fmt='.2f')\n",
    "plt.title('Correlation Heatmap for Bowling Data')\n",
    "plt.show()"
   ]
  },
  {
   "cell_type": "markdown",
   "id": "NW6O3hh-n8k2",
   "metadata": {
    "id": "NW6O3hh-n8k2"
   },
   "source": [
    "PLAYER PERFORMANCE\n",
    "\n",
    "1) Strike Rate vs. Batting Position: Using df_batting.csv, Find strike rate (SR) against batting position (battingPos) to analyze how players perform in different batting positions.\n"
   ]
  },
  {
   "cell_type": "code",
   "execution_count": 13,
   "id": "goFvq4OpTZSl",
   "metadata": {
    "colab": {
     "base_uri": "https://localhost:8080/",
     "height": 175
    },
    "executionInfo": {
     "elapsed": 521,
     "status": "ok",
     "timestamp": 1730648011821,
     "user": {
      "displayName": "Poovarasan",
      "userId": "14734910585636785128"
     },
     "user_tz": -330
    },
    "id": "goFvq4OpTZSl",
    "outputId": "02e63696-6237-4a86-e6a8-986b16184ebc"
   },
   "outputs": [
    {
     "data": {
      "text/html": [
       "<div>\n",
       "<style scoped>\n",
       "    .dataframe tbody tr th:only-of-type {\n",
       "        vertical-align: middle;\n",
       "    }\n",
       "\n",
       "    .dataframe tbody tr th {\n",
       "        vertical-align: top;\n",
       "    }\n",
       "\n",
       "    .dataframe thead th {\n",
       "        text-align: right;\n",
       "    }\n",
       "</style>\n",
       "<table border=\"1\" class=\"dataframe\">\n",
       "  <thead>\n",
       "    <tr style=\"text-align: right;\">\n",
       "      <th></th>\n",
       "      <th>match</th>\n",
       "      <th>teamInnings</th>\n",
       "      <th>battingPos</th>\n",
       "      <th>batsmanName</th>\n",
       "      <th>runs</th>\n",
       "      <th>balls</th>\n",
       "      <th>4s</th>\n",
       "      <th>6s</th>\n",
       "      <th>SR</th>\n",
       "      <th>out/not_out</th>\n",
       "      <th>match_id</th>\n",
       "      <th>team1</th>\n",
       "      <th>team2</th>\n",
       "      <th>winner</th>\n",
       "      <th>margin</th>\n",
       "      <th>ground</th>\n",
       "      <th>matchDate</th>\n",
       "    </tr>\n",
       "  </thead>\n",
       "  <tbody>\n",
       "    <tr>\n",
       "      <th>379</th>\n",
       "      <td>New Zealand Vs Sri Lanka</td>\n",
       "      <td>New Zealand</td>\n",
       "      <td>1</td>\n",
       "      <td>Finn Allen</td>\n",
       "      <td>1</td>\n",
       "      <td>3</td>\n",
       "      <td>0</td>\n",
       "      <td>0</td>\n",
       "      <td>33.33</td>\n",
       "      <td>out</td>\n",
       "      <td>T20I # 1850</td>\n",
       "      <td>New Zealand</td>\n",
       "      <td>Sri Lanka</td>\n",
       "      <td>New Zealand</td>\n",
       "      <td>65 runs</td>\n",
       "      <td>Sydney</td>\n",
       "      <td>Oct 29, 2022</td>\n",
       "    </tr>\n",
       "    <tr>\n",
       "      <th>210</th>\n",
       "      <td>New Zealand Vs Australia</td>\n",
       "      <td>Australia</td>\n",
       "      <td>4</td>\n",
       "      <td>Glenn Maxwell</td>\n",
       "      <td>28</td>\n",
       "      <td>20</td>\n",
       "      <td>3</td>\n",
       "      <td>1</td>\n",
       "      <td>140.00</td>\n",
       "      <td>out</td>\n",
       "      <td>T20I # 1839</td>\n",
       "      <td>Australia</td>\n",
       "      <td>New Zealand</td>\n",
       "      <td>New Zealand</td>\n",
       "      <td>89 runs</td>\n",
       "      <td>Sydney</td>\n",
       "      <td>Oct 22, 2022</td>\n",
       "    </tr>\n",
       "    <tr>\n",
       "      <th>104</th>\n",
       "      <td>Sri Lanka Vs U.A.E.</td>\n",
       "      <td>U.A.E.</td>\n",
       "      <td>5</td>\n",
       "      <td>Vriitya Aravindâ€</td>\n",
       "      <td>9</td>\n",
       "      <td>18</td>\n",
       "      <td>1</td>\n",
       "      <td>0</td>\n",
       "      <td>50.00</td>\n",
       "      <td>out</td>\n",
       "      <td>T20I # 1832</td>\n",
       "      <td>Sri Lanka</td>\n",
       "      <td>U.A.E.</td>\n",
       "      <td>Sri Lanka</td>\n",
       "      <td>79 runs</td>\n",
       "      <td>Geelong</td>\n",
       "      <td>Oct 18, 2022</td>\n",
       "    </tr>\n",
       "    <tr>\n",
       "      <th>488</th>\n",
       "      <td>England Vs New Zealand</td>\n",
       "      <td>England</td>\n",
       "      <td>4</td>\n",
       "      <td>Liam Livingstone</td>\n",
       "      <td>20</td>\n",
       "      <td>14</td>\n",
       "      <td>1</td>\n",
       "      <td>1</td>\n",
       "      <td>142.85</td>\n",
       "      <td>out</td>\n",
       "      <td>T20I # 1858</td>\n",
       "      <td>England</td>\n",
       "      <td>New Zealand</td>\n",
       "      <td>England</td>\n",
       "      <td>20 runs</td>\n",
       "      <td>Brisbane</td>\n",
       "      <td>Nov 1, 2022</td>\n",
       "    </tr>\n",
       "  </tbody>\n",
       "</table>\n",
       "</div>"
      ],
      "text/plain": [
       "                        match  teamInnings  battingPos        batsmanName  \\\n",
       "379  New Zealand Vs Sri Lanka  New Zealand           1         Finn Allen   \n",
       "210  New Zealand Vs Australia    Australia           4      Glenn Maxwell   \n",
       "104       Sri Lanka Vs U.A.E.       U.A.E.           5  Vriitya Aravindâ€   \n",
       "488    England Vs New Zealand      England           4   Liam Livingstone   \n",
       "\n",
       "     runs  balls  4s  6s      SR out/not_out     match_id        team1  \\\n",
       "379     1      3   0   0   33.33         out  T20I # 1850  New Zealand   \n",
       "210    28     20   3   1  140.00         out  T20I # 1839    Australia   \n",
       "104     9     18   1   0   50.00         out  T20I # 1832    Sri Lanka   \n",
       "488    20     14   1   1  142.85         out  T20I # 1858      England   \n",
       "\n",
       "           team2       winner   margin    ground     matchDate  \n",
       "379    Sri Lanka  New Zealand  65 runs    Sydney  Oct 29, 2022  \n",
       "210  New Zealand  New Zealand  89 runs    Sydney  Oct 22, 2022  \n",
       "104       U.A.E.    Sri Lanka  79 runs   Geelong  Oct 18, 2022  \n",
       "488  New Zealand      England  20 runs  Brisbane   Nov 1, 2022  "
      ]
     },
     "execution_count": 13,
     "metadata": {},
     "output_type": "execute_result"
    }
   ],
   "source": [
    "# Example 1: Merge batting and match data on match_id for analysis\n",
    "df_batting_match = pd.merge(df_batting, df_match, on=\"match_id\")\n",
    "df_batting_match.sample(4)\n",
    "\n",
    "#['Namibia' 'Netherlands' 'Scotland' 'Ireland' 'Sri Lanka' 'West Indies' 'Australia' 'Afghanistan' 'India' 'Bangladesh' 'South Africa' 'England' 'Pakistan' 'New Zealand' 'U.A.E.' 'Zimbabwe'] Teams in Dataset"
   ]
  },
  {
   "cell_type": "code",
   "execution_count": 14,
   "id": "J-bN1xgnnGrm",
   "metadata": {
    "colab": {
     "base_uri": "https://localhost:8080/",
     "height": 828,
     "referenced_widgets": [
      "18a9ed48fc824e9badaba4b9d87f2484",
      "eac3bde931344507ac8c3cf9535afb44",
      "4c6539f0991443aca4983a70b36d0d06",
      "d7e61be6cecf483ba4c27053db2dadbe",
      "42ab4b9b00c54be7b30e012431c4cb5a",
      "42471fe9e3a442e5a1dc77400717c01d"
     ]
    },
    "executionInfo": {
     "elapsed": 513,
     "status": "ok",
     "timestamp": 1730647931092,
     "user": {
      "displayName": "Poovarasan",
      "userId": "14734910585636785128"
     },
     "user_tz": -330
    },
    "id": "J-bN1xgnnGrm",
    "outputId": "5a9c81db-ec70-4411-93b4-12bfe23f3fc4"
   },
   "outputs": [
    {
     "data": {
      "application/vnd.jupyter.widget-view+json": {
       "model_id": "489253247316465abb9b4b29e787f249",
       "version_major": 2,
       "version_minor": 0
      },
      "text/plain": [
       "Dropdown(description='Select Team:', options=('Namibia', 'Sri Lanka', 'U.A.E.', 'Netherlands', 'Scotland', 'We…"
      ]
     },
     "metadata": {},
     "output_type": "display_data"
    },
    {
     "data": {
      "application/vnd.jupyter.widget-view+json": {
       "model_id": "9b565f8f856c49069318e0904531c059",
       "version_major": 2,
       "version_minor": 0
      },
      "text/plain": [
       "Dropdown(description='Select Player:', options=(), value=None)"
      ]
     },
     "metadata": {},
     "output_type": "display_data"
    },
    {
     "data": {
      "image/png": "[encoded data removed]",
      "text/plain": [
       "<Figure size 1000x600 with 1 Axes>"
      ]
     },
     "metadata": {},
     "output_type": "display_data"
    },
    {
     "name": "stdout",
     "output_type": "stream",
     "text": [
      "\n",
      "Strike rate for KL Rahul by batting position:\n"
     ]
    },
    {
     "data": {
      "text/html": [
       "<div>\n",
       "<style scoped>\n",
       "    .dataframe tbody tr th:only-of-type {\n",
       "        vertical-align: middle;\n",
       "    }\n",
       "\n",
       "    .dataframe tbody tr th {\n",
       "        vertical-align: top;\n",
       "    }\n",
       "\n",
       "    .dataframe thead th {\n",
       "        text-align: right;\n",
       "    }\n",
       "</style>\n",
       "<table border=\"1\" class=\"dataframe\">\n",
       "  <thead>\n",
       "    <tr style=\"text-align: right;\">\n",
       "      <th></th>\n",
       "      <th>battingPos</th>\n",
       "      <th>SR</th>\n",
       "    </tr>\n",
       "  </thead>\n",
       "  <tbody>\n",
       "    <tr>\n",
       "      <th>259</th>\n",
       "      <td>1</td>\n",
       "      <td>50.00</td>\n",
       "    </tr>\n",
       "    <tr>\n",
       "      <th>345</th>\n",
       "      <td>1</td>\n",
       "      <td>75.00</td>\n",
       "    </tr>\n",
       "    <tr>\n",
       "      <th>434</th>\n",
       "      <td>1</td>\n",
       "      <td>64.28</td>\n",
       "    </tr>\n",
       "    <tr>\n",
       "      <th>519</th>\n",
       "      <td>1</td>\n",
       "      <td>156.25</td>\n",
       "    </tr>\n",
       "    <tr>\n",
       "      <th>644</th>\n",
       "      <td>1</td>\n",
       "      <td>145.71</td>\n",
       "    </tr>\n",
       "    <tr>\n",
       "      <th>673</th>\n",
       "      <td>1</td>\n",
       "      <td>100.00</td>\n",
       "    </tr>\n",
       "  </tbody>\n",
       "</table>\n",
       "</div>"
      ],
      "text/plain": [
       "     battingPos      SR\n",
       "259           1   50.00\n",
       "345           1   75.00\n",
       "434           1   64.28\n",
       "519           1  156.25\n",
       "644           1  145.71\n",
       "673           1  100.00"
      ]
     },
     "metadata": {},
     "output_type": "display_data"
    }
   ],
   "source": [
    "import pandas as pd\n",
    "import ipywidgets as widgets\n",
    "import matplotlib.pyplot as plt\n",
    "from IPython.display import display\n",
    "\n",
    "# Convert the SR column to numeric, coercing errors to NaN\n",
    "df_batting_match['SR'] = pd.to_numeric(df_batting_match['SR'], errors='coerce')\n",
    "\n",
    "# Unique teams from the merged dataset\n",
    "teams = df_batting_match['teamInnings'].unique()\n",
    "\n",
    "# Dropdown to select team\n",
    "team_dropdown = widgets.Dropdown(\n",
    "    options=teams,\n",
    "    description='Select Team:'\n",
    ")\n",
    "\n",
    "# Function to plot team strike rates by batting position\n",
    "def plot_team_strike_rate(team_selected):\n",
    "    team_data = df_batting_match[df_batting_match['teamInnings'] == team_selected]\n",
    "\n",
    "    # Group by batting position and calculate mean strike rate, dropping NaN values\n",
    "    avg_strike_rate_by_position = team_data.groupby('battingPos')['SR'].mean().reset_index()\n",
    "\n",
    "    plt.figure(figsize=(10, 6))\n",
    "    plt.bar(avg_strike_rate_by_position['battingPos'].astype(str), avg_strike_rate_by_position['SR'], color='skyblue')\n",
    "    plt.title(f'Average Strike Rate for {team_selected} by Batting Position')\n",
    "    plt.xlabel('Batting Position')\n",
    "    plt.ylabel('Average Strike Rate')\n",
    "    plt.xticks(rotation=45)\n",
    "    plt.grid(axis='y')\n",
    "    plt.show()\n",
    "\n",
    "# Function to update players based on selected team and plot\n",
    "def update_players(change):\n",
    "    team_selected = change['new']\n",
    "    players = df_batting_match[df_batting_match['teamInnings'] == team_selected]['batsmanName'].unique()\n",
    "    player_dropdown.options = players\n",
    "\n",
    "    # Plot the average strike rate for the selected team\n",
    "    plot_team_strike_rate(team_selected)\n",
    "\n",
    "# Dropdown to select player (will be populated based on team selection)\n",
    "player_dropdown = widgets.Dropdown(\n",
    "    description='Select Player:'\n",
    ")\n",
    "\n",
    "# Display strike rate info when a player is selected\n",
    "def display_strike_rate(player_name):\n",
    "    player_data = df_batting_match[df_batting_match['batsmanName'] == player_name]\n",
    "    print(f\"\\nStrike rate for {player_name} by batting position:\")\n",
    "    display(player_data[['battingPos', 'SR']])\n",
    "\n",
    "# Button to show strike rate\n",
    "def on_player_select(change):\n",
    "    player_selected = change['new']\n",
    "    display_strike_rate(player_selected)\n",
    "\n",
    "# Attach functions to dropdowns\n",
    "team_dropdown.observe(update_players, names='value')\n",
    "player_dropdown.observe(on_player_select, names='value')\n",
    "\n",
    "# Display widgets\n",
    "display(team_dropdown, player_dropdown)\n"
   ]
  },
  {
   "cell_type": "markdown",
   "id": "J88bI4cgqc2k",
   "metadata": {
    "id": "J88bI4cgqc2k"
   },
   "source": [
    "2) Runs vs. Balls Faced: For a specific batsman or a group of batsmen, plot runs scored (runs) against balls faced (balls) to examine scoring efficiency."
   ]
  },
  {
   "cell_type": "code",
   "execution_count": 21,
   "id": "JeliMlhvqcet",
   "metadata": {
    "colab": {
     "base_uri": "https://localhost:8080/",
     "height": 596,
     "referenced_widgets": [
      "70d1160649cd4d80bb2b4150727c50cf",
      "b68cdf84211c45d9ba1d522da0589abc",
      "b809ab5a60b04240b4999d5af5cdf8b2"
     ]
    },
    "collapsed": true,
    "executionInfo": {
     "elapsed": 1087,
     "status": "ok",
     "timestamp": 1730648695774,
     "user": {
      "displayName": "Poovarasan",
      "userId": "14734910585636785128"
     },
     "user_tz": -330
    },
    "id": "JeliMlhvqcet",
    "outputId": "4301d680-dc61-4909-e826-a768ce78852b"
   },
   "outputs": [
    {
     "data": {
      "application/vnd.jupyter.widget-view+json": {
       "model_id": "4dcfe71228b4473d9cf53996f890b981",
       "version_major": 2,
       "version_minor": 0
      },
      "text/plain": [
       "Dropdown(description='Select Batsman:', options=('Michael van Lingen', 'Divan la Cock', 'Jan Nicol Loftie-Eato…"
      ]
     },
     "metadata": {},
     "output_type": "display_data"
    },
    {
     "data": {
      "image/png": "[encoded data removed]",
      "text/plain": [
       "<Figure size 1000x600 with 1 Axes>"
      ]
     },
     "metadata": {},
     "output_type": "display_data"
    }
   ],
   "source": [
    "import pandas as pd\n",
    "import matplotlib.pyplot as plt\n",
    "import ipywidgets as widgets\n",
    "from IPython.display import display\n",
    "\n",
    "# Load the batting data\n",
    "df_batting = pd.read_csv('df_batting.csv')\n",
    "\n",
    "# Convert runs and balls columns to numeric if they are not\n",
    "df_batting['runs'] = pd.to_numeric(df_batting['runs'], errors='coerce')\n",
    "df_batting['balls'] = pd.to_numeric(df_batting['balls'], errors='coerce')\n",
    "\n",
    "# Filter out rows with missing values in runs or balls\n",
    "df_batting = df_batting.dropna(subset=['runs', 'balls'])\n",
    "\n",
    "# Unique batsmen\n",
    "batsmen = df_batting['batsmanName'].unique()\n",
    "\n",
    "# Dropdown to select a batsman\n",
    "batsman_dropdown = widgets.Dropdown(\n",
    "    options=batsmen,\n",
    "    description='Select Batsman:'\n",
    ")\n",
    "\n",
    "# Function to plot Runs vs Balls Faced for the selected batsman\n",
    "def plot_runs_vs_balls(batsman_selected):\n",
    "    batsman_data = df_batting[df_batting['batsmanName'] == batsman_selected]\n",
    "\n",
    "    # Sort data by balls faced for a better line plot\n",
    "    batsman_data = batsman_data.sort_values('balls')\n",
    "\n",
    "    plt.figure(figsize=(10, 6))\n",
    "    plt.plot(batsman_data['balls'], batsman_data['runs'], color='blue', marker='o', alpha=0.6)\n",
    "    plt.title(f'Runs vs Balls Faced for {batsman_selected}')\n",
    "    plt.xlabel('Balls Faced')\n",
    "    plt.ylabel('Runs Scored')\n",
    "    plt.grid(True)\n",
    "    plt.show()\n",
    "\n",
    "# Event to plot the graph when a batsman is selected\n",
    "def on_batsman_select(change):\n",
    "    batsman_selected = change['new']\n",
    "    plot_runs_vs_balls(batsman_selected)\n",
    "\n",
    "# Attach the event to the dropdown\n",
    "batsman_dropdown.observe(on_batsman_select, names='value')\n",
    "\n",
    "# Display widgets\n",
    "display(batsman_dropdown)\n"
   ]
  },
  {
   "cell_type": "markdown",
   "id": "TifciixvztcZ",
   "metadata": {
    "id": "TifciixvztcZ"
   },
   "source": [
    "Bowler Performance Analysis\n",
    "\n",
    "1) Economy Rate Comparison: Using df_bowling.csv, plot the economy rate (economy) of bowlers across matches or against the number of overs (overs) they bowl."
   ]
  },
  {
   "cell_type": "code",
   "execution_count": 16,
   "id": "5M4eBjR5uazD",
   "metadata": {
    "colab": {
     "base_uri": "https://localhost:8080/",
     "height": 717,
     "referenced_widgets": [
      "d900880e356a4769864aa61949cec76c",
      "b122c90786b4445f8b5e596b0c14e7d6",
      "354a512676fd4539b18ac3b83da18cf2",
      "e6a6b589a155456194bd71a3b075aeb5",
      "6fb4dfa9207a437694537fb7392538a9",
      "d01c22cf7e1e4e0388b57b6593490f2f",
      "53a0b346872d44d69b232e9b7f228cb4",
      "1b61aea900304096852bc0bec344e96b",
      "2d41fd0c25a94b978424b44dab6edd2e",
      "9f5430069c114dbf8dc3e57466a09d91"
     ]
    },
    "executionInfo": {
     "elapsed": 751,
     "status": "ok",
     "timestamp": 1730650481320,
     "user": {
      "displayName": "Poovarasan",
      "userId": "14734910585636785128"
     },
     "user_tz": -330
    },
    "id": "5M4eBjR5uazD",
    "outputId": "861b5fec-9ede-449d-b078-a3b3591741c2"
   },
   "outputs": [
    {
     "data": {
      "application/vnd.jupyter.widget-view+json": {
       "model_id": "9c2721874e6f435f863a6853aa5cda30",
       "version_major": 2,
       "version_minor": 0
      },
      "text/plain": [
       "interactive(children=(Dropdown(description='Team:', options=('Sri Lanka', 'Namibia', 'Netherlands', 'U.A.E.', …"
      ]
     },
     "metadata": {},
     "output_type": "display_data"
    },
    {
     "data": {
      "text/plain": [
       "<function __main__.plot_bowler_area(team, bowler_name)>"
      ]
     },
     "execution_count": 16,
     "metadata": {},
     "output_type": "execute_result"
    }
   ],
   "source": [
    "import pandas as pd\n",
    "import matplotlib.pyplot as plt\n",
    "import seaborn as sns\n",
    "from ipywidgets import interact, widgets\n",
    "\n",
    "# Load the df_bowling.csv file\n",
    "df_bowling = pd.read_csv('df_bowling.csv')\n",
    "\n",
    "# Function to update the bowler dropdown based on selected team\n",
    "def update_bowlers(team):\n",
    "    # Filter bowlers for the selected team\n",
    "    team_bowlers = df_bowling[df_bowling['bowlingTeam'] == team]['bowlerName'].unique()\n",
    "    bowler_dropdown.options = team_bowlers\n",
    "    bowler_dropdown.value = team_bowlers[0] if len(team_bowlers) > 0 else None\n",
    "\n",
    "# Function to plot an area plot for the selected team and bowler\n",
    "def plot_bowler_area(team, bowler_name):\n",
    "    # Filter data for the selected team and bowler\n",
    "    filtered_data = df_bowling[\n",
    "        (df_bowling['bowlingTeam'] == team) &\n",
    "        (df_bowling['bowlerName'] == bowler_name)\n",
    "    ]\n",
    "\n",
    "    # Check if there's data to plot after filtering\n",
    "    if filtered_data.empty:\n",
    "        print(\"No data available for this selection.\")\n",
    "    else:\n",
    "        # Sort data by 'overs' to make the plot consistent\n",
    "        filtered_data = filtered_data.sort_values(by='overs')\n",
    "\n",
    "        # Set up the figure size\n",
    "        plt.figure(figsize=(10, 6))\n",
    "\n",
    "        # Create the area plot\n",
    "        plt.fill_between(filtered_data['overs'], filtered_data['economy'], color=\"skyblue\", alpha=0.4)\n",
    "        plt.plot(filtered_data['overs'], filtered_data['economy'], color=\"Slateblue\", alpha=0.6)\n",
    "\n",
    "        # Set the title and labels\n",
    "        plt.title(f\"{bowler_name} - Economy Rate Across Overs Bowled ({team})\")\n",
    "        plt.xlabel(\"Overs Bowled\")\n",
    "        plt.ylabel(\"Economy Rate\")\n",
    "\n",
    "        # Show the plot\n",
    "        plt.show()\n",
    "\n",
    "# Dropdown for team selection\n",
    "team_dropdown = widgets.Dropdown(\n",
    "    options=df_bowling['bowlingTeam'].unique(),\n",
    "    description=\"Team:\"\n",
    ")\n",
    "\n",
    "# Dropdown for bowler selection (initially populated based on the first team)\n",
    "initial_team = df_bowling['bowlingTeam'].unique()[0]\n",
    "bowler_dropdown = widgets.Dropdown(\n",
    "    options=df_bowling[df_bowling['bowlingTeam'] == initial_team]['bowlerName'].unique(),\n",
    "    description=\"Bowler:\"\n",
    ")\n",
    "\n",
    "# Update bowler dropdown when the team is changed\n",
    "team_dropdown.observe(lambda change: update_bowlers(change.new), names='value')\n",
    "\n",
    "# Interactive plot\n",
    "interact(\n",
    "    plot_bowler_area,\n",
    "    team=team_dropdown,\n",
    "    bowler_name=bowler_dropdown\n",
    ")\n"
   ]
  },
  {
   "cell_type": "markdown",
   "id": "jXeWo3Gt0TFP",
   "metadata": {
    "id": "jXeWo3Gt0TFP"
   },
   "source": [
    "2) Wickets and Runs Conceded: Create a scatter plot or bar plot comparing wickets and runs conceded by bowlers to see who takes wickets while keeping runs low"
   ]
  },
  {
   "cell_type": "code",
   "execution_count": 17,
   "id": "AnG3hao1ybIM",
   "metadata": {
    "colab": {
     "base_uri": "https://localhost:8080/",
     "height": 917,
     "referenced_widgets": [
      "eeb3ae1623894b1790e18476f26bfa83",
      "e49d1dab49fa42e39e2de415e0b34b98",
      "f8aa3f4ed2034931a3de106e8a1b1f92",
      "1bd61f5909ee44f1920a9ac62414fa64",
      "45080abc949a4b478a34578c8a4ea784",
      "c14d7b2ce74743baafd9a8b3e870ff88",
      "da7984f191f146a4ac53562237ceefb4"
     ]
    },
    "executionInfo": {
     "elapsed": 2627,
     "status": "ok",
     "timestamp": 1730650251304,
     "user": {
      "displayName": "Poovarasan",
      "userId": "14734910585636785128"
     },
     "user_tz": -330
    },
    "id": "AnG3hao1ybIM",
    "outputId": "5fcd5bea-09d3-48c1-b2ec-72fb4ae2c047"
   },
   "outputs": [
    {
     "data": {
      "application/vnd.jupyter.widget-view+json": {
       "model_id": "0a4d294fc4884378aad955894dc84220",
       "version_major": 2,
       "version_minor": 0
      },
      "text/plain": [
       "interactive(children=(Dropdown(description='Team:', options=('Sri Lanka', 'Namibia', 'Netherlands', 'U.A.E.', …"
      ]
     },
     "metadata": {},
     "output_type": "display_data"
    },
    {
     "data": {
      "text/plain": [
       "<function __main__.plot_wickets_runs_bar(team)>"
      ]
     },
     "execution_count": 17,
     "metadata": {},
     "output_type": "execute_result"
    }
   ],
   "source": [
    "# Function to plot bar plot for wickets and runs conceded for the selected team and bowler\n",
    "def plot_wickets_runs_bar(team):\n",
    "    # Filter data for the selected team\n",
    "    filtered_data = df_bowling[df_bowling['bowlingTeam'] == team]\n",
    "\n",
    "    # Check if there's data to plot after filtering\n",
    "    if filtered_data.empty:\n",
    "        print(\"No data available for this selection.\")\n",
    "    else:\n",
    "        # Set up the figure\n",
    "        plt.figure(figsize=(12, 8))\n",
    "\n",
    "        # Plot runs conceded as bars\n",
    "        sns.barplot(data=filtered_data, x='bowlerName', y='runs', color=\"skyblue\", label=\"Runs Conceded\")\n",
    "\n",
    "        # Plot wickets as bars (overlayed)\n",
    "        sns.barplot(data=filtered_data, x='bowlerName', y='wickets', color=\"salmon\", label=\"Wickets Taken\")\n",
    "\n",
    "        # Set the title and labels\n",
    "        plt.title(f\"Wickets and Runs Conceded by Bowlers in {team}\")\n",
    "        plt.xlabel(\"Bowler\")\n",
    "        plt.ylabel(\"Count\")\n",
    "\n",
    "        # Rotate x-axis labels for readability\n",
    "        plt.xticks(rotation=45)\n",
    "\n",
    "        # Show legend and plot\n",
    "        plt.legend()\n",
    "        plt.show()\n",
    "\n",
    "# Interactive plot\n",
    "interact(\n",
    "    plot_wickets_runs_bar,\n",
    "    team=team_dropdown\n",
    ")\n"
   ]
  },
  {
   "cell_type": "markdown",
   "id": "9e070c3a",
   "metadata": {
    "id": "9e070c3a",
    "papermill": {
     "duration": 0.008101,
     "end_time": "2024-09-28T20:04:17.497912",
     "exception": false,
     "start_time": "2024-09-28T20:04:17.489811",
     "status": "completed"
    },
    "tags": []
   },
   "source": [
    "## Predictive Analysis\n",
    "Given the data, it would be interesting to predict the winner of a match based on the teams playing. Let's build a simple predictor for this."
   ]
  },
  {
   "cell_type": "code",
   "execution_count": 18,
   "id": "4296cc12",
   "metadata": {},
   "outputs": [
    {
     "name": "stdout",
     "output_type": "stream",
     "text": [
      "Model Accuracy: 0.67\n",
      "\n",
      "Classification Report:\n",
      "              precision    recall  f1-score   support\n",
      "\n",
      " Team 2 Wins       1.00      0.25      0.40         4\n",
      " Team 1 Wins       0.62      1.00      0.77         5\n",
      "\n",
      "    accuracy                           0.67         9\n",
      "   macro avg       0.81      0.62      0.58         9\n",
      "weighted avg       0.79      0.67      0.61         9\n",
      "\n"
     ]
    },
    {
     "data": {
      "text/plain": [
       "['random_forest_match_predictor.pkl']"
      ]
     },
     "execution_count": 18,
     "metadata": {},
     "output_type": "execute_result"
    }
   ],
   "source": [
    "import pandas as pd\n",
    "from sklearn.ensemble import RandomForestClassifier\n",
    "from sklearn.model_selection import train_test_split\n",
    "from sklearn.metrics import accuracy_score, classification_report\n",
    "import joblib\n",
    "\n",
    "# Load the dataset\n",
    "df_match = pd.read_csv('df_match.csv')\n",
    "\n",
    "# Function to calculate recent win rate for each team\n",
    "def calculate_recent_win_rate(df, team_name, window=5):\n",
    "    team_matches = df[(df['team1'] == team_name) | (df['team2'] == team_name)]\n",
    "    wins = (team_matches['winner'] == team_name).rolling(window=window).mean()\n",
    "    return wins.fillna(0).iloc[-1]\n",
    "\n",
    "# Add recent win rate for each match\n",
    "df_match['team1_recent_win_rate'] = df_match['team1'].apply(lambda x: calculate_recent_win_rate(df_match, x))\n",
    "df_match['team2_recent_win_rate'] = df_match['team2'].apply(lambda x: calculate_recent_win_rate(df_match, x))\n",
    "\n",
    "# Features and target\n",
    "features = ['team1_recent_win_rate', 'team2_recent_win_rate']\n",
    "X = df_match[features]\n",
    "y = (df_match['winner'] == df_match['team1']).astype(int)  # 1 if team1 wins, 0 if team2 wins\n",
    "\n",
    "# Split data\n",
    "X_train, X_test, y_train, y_test = train_test_split(X, y, test_size=0.2, random_state=42)\n",
    "\n",
    "# Train the Random Forest model\n",
    "model = RandomForestClassifier(random_state=42)\n",
    "model.fit(X_train, y_train)\n",
    "\n",
    "# Evaluate\n",
    "y_pred = model.predict(X_test)\n",
    "accuracy = accuracy_score(y_test, y_pred)\n",
    "print(f\"Model Accuracy: {accuracy:.2f}\")\n",
    "\n",
    "# Classification Report\n",
    "print(\"\\nClassification Report:\")\n",
    "print(classification_report(y_test, y_pred, target_names=['Team 2 Wins', 'Team 1 Wins']))\n",
    "\n",
    "# Save the model\n",
    "joblib.dump(model, 'random_forest_match_predictor.pkl')\n"
   ]
  },
  {
   "cell_type": "code",
   "execution_count": 19,
   "id": "96b54fae",
   "metadata": {},
   "outputs": [],
   "source": [
    "import pandas as pd\n",
    "import joblib\n",
    "from tkinter import Tk, Label, Button, OptionMenu, StringVar, messagebox, Frame\n",
    "\n",
    "# Load the trained model\n",
    "model = joblib.load('random_forest_match_predictor.pkl')\n",
    "\n",
    "# Load match data for recent win rate calculation\n",
    "df_match = pd.read_csv('df_match.csv')\n",
    "\n",
    "# Function to calculate recent win rate\n",
    "def calculate_recent_win_rate(team_name, window=5):\n",
    "    team_matches = df_match[(df_match['team1'] == team_name) | (df_match['team2'] == team_name)]\n",
    "    wins = (team_matches['winner'] == team_name).rolling(window=window).mean().fillna(0).iloc[-1]\n",
    "    return wins\n",
    "\n",
    "# Prediction function\n",
    "def predict_winner(team1, team2):\n",
    "    team1_win_rate = calculate_recent_win_rate(team1)\n",
    "    team2_win_rate = calculate_recent_win_rate(team2)\n",
    "    input_data = pd.DataFrame([[team1_win_rate, team2_win_rate]], columns=['team1_recent_win_rate', 'team2_recent_win_rate'])\n",
    "    prediction = model.predict(input_data)\n",
    "    return \"Team 1 Wins\" if prediction[0] == 1 else \"Team 2 Wins\"\n",
    "\n",
    "# Tkinter GUI setup\n",
    "def show_prediction():\n",
    "    team1 = team1_var.get()\n",
    "    team2 = team2_var.get()\n",
    "    if team1 == team2:\n",
    "        messagebox.showerror(\"Error\", \"Please select two different teams.\")\n",
    "    else:\n",
    "        result = predict_winner(team1, team2)\n",
    "        messagebox.showinfo(\"Prediction Result\", f\"{result}\")\n",
    "\n",
    "# Initialize Tkinter window\n",
    "root = Tk()\n",
    "root.title(\"Cricket Match Predictor\")\n",
    "root.geometry(\"500x300\")\n",
    "root.configure(bg=\"#2e3f4f\")  # Background color\n",
    "\n",
    "# Custom styling\n",
    "title_font = (\"Arial\", 16, \"bold\")\n",
    "label_font = (\"Arial\", 12)\n",
    "button_font = (\"Arial\", 12, \"bold\")\n",
    "\n",
    "# Container Frame for padding and styling\n",
    "container = Frame(root, bg=\"#3b4a5a\", padx=20, pady=20)\n",
    "container.pack(fill=\"both\", expand=True, padx=10, pady=10)\n",
    "\n",
    "# Title Label\n",
    "title = Label(container, text=\"Cricket Match Predictor\", font=title_font, bg=\"#3b4a5a\", fg=\"#ffffff\")\n",
    "title.pack(pady=(0, 20))\n",
    "\n",
    "# Load unique team names from match data\n",
    "teams = sorted(set(df_match['team1']).union(set(df_match['team2'])))\n",
    "\n",
    "# Team 1 Dropdown\n",
    "Label(container, text=\"Select Team 1:\", font=label_font, bg=\"#3b4a5a\", fg=\"#ffffff\").pack(anchor=\"w\")\n",
    "team1_var = StringVar(root)\n",
    "team1_var.set(\"Select Team\")\n",
    "team1_menu = OptionMenu(container, team1_var, *teams)\n",
    "team1_menu.config(font=label_font, bg=\"#d1e1e8\", fg=\"#333333\", highlightthickness=0)\n",
    "team1_menu.pack(fill=\"x\", pady=(0, 10))\n",
    "\n",
    "# Team 2 Dropdown\n",
    "Label(container, text=\"Select Team 2:\", font=label_font, bg=\"#3b4a5a\", fg=\"#ffffff\").pack(anchor=\"w\")\n",
    "team2_var = StringVar(root)\n",
    "team2_var.set(\"Select Team\")\n",
    "team2_menu = OptionMenu(container, team2_var, *teams)\n",
    "team2_menu.config(font=label_font, bg=\"#d1e1e8\", fg=\"#333333\", highlightthickness=0)\n",
    "team2_menu.pack(fill=\"x\", pady=(0, 20))\n",
    "\n",
    "# Predict Button\n",
    "predict_button = Button(container, text=\"Predict Winner\", font=button_font, bg=\"#4CAF50\", fg=\"#ffffff\", command=show_prediction)\n",
    "predict_button.pack(fill=\"x\")\n",
    "\n",
    "# Run the Tkinter loop\n",
    "root.mainloop()\n"
   ]
  }
 ],
 "metadata": {
  "colab": {
   "provenance": []
  },
  "kernelspec": {
   "display_name": "Python 3",
   "language": "python",
   "name": "python3"
  },
  "language_info": {
   "codemirror_mode": {
    "name": "ipython",
    "version": 3
   },
   "file_extension": ".py",
   "mimetype": "text/x-python",
   "name": "python",
   "nbconvert_exporter": "python",
   "pygments_lexer": "ipython3",
   "version": "3.13.0"
  },
  "papermill": {
   "default_parameters": {},
   "duration": 8.543441,
   "end_time": "2024-09-28T20:04:19.085507",
   "environment_variables": {},
   "exception": null,
   "input_path": "__notebook__.ipynb",
   "output_path": "__notebook__.ipynb",
   "parameters": {},
   "start_time": "2024-09-28T20:04:10.542066",
   "version": "2.6.0"
  },
  "widgets": {
   "application/vnd.jupyter.widget-state+json": {
    "18a9ed48fc824e9badaba4b9d87f2484": {
     "model_module": "@jupyter-widgets/controls",
     "model_module_version": "1.5.0",
     "model_name": "DropdownModel",
     "state": {
      "_dom_classes": [],
      "_model_module": "@jupyter-widgets/controls",
      "_model_module_version": "1.5.0",
      "_model_name": "DropdownModel",
      "_options_labels": [
       "Namibia",
       "Sri Lanka",
       "U.A.E.",
       "Netherlands",
       "Scotland",
       "West Indies",
       "Zimbabwe",
       "Ireland",
       "New Zealand",
       "Australia",
       "Afghanistan",
       "England",
       "Pakistan",
       "India",
       "Bangladesh",
       "South Africa"
      ],
      "_view_count": null,
      "_view_module": "@jupyter-widgets/controls",
      "_view_module_version": "1.5.0",
      "_view_name": "DropdownView",
      "description": "Select Team:",
      "description_tooltip": null,
      "disabled": false,
      "index": 9,
      "layout": "IPY_MODEL_eac3bde931344507ac8c3cf9535afb44",
      "style": "IPY_MODEL_4c6539f0991443aca4983a70b36d0d06"
     }
    },
    "1b61aea900304096852bc0bec344e96b": {
     "model_module": "@jupyter-widgets/base",
     "model_module_version": "1.2.0",
     "model_name": "LayoutModel",
     "state": {
      "_model_module": "@jupyter-widgets/base",
      "_model_module_version": "1.2.0",
      "_model_name": "LayoutModel",
      "_view_count": null,
      "_view_module": "@jupyter-widgets/base",
      "_view_module_version": "1.2.0",
      "_view_name": "LayoutView",
      "align_content": null,
      "align_items": null,
      "align_self": null,
      "border": null,
      "bottom": null,
      "display": null,
      "flex": null,
      "flex_flow": null,
      "grid_area": null,
      "grid_auto_columns": null,
      "grid_auto_flow": null,
      "grid_auto_rows": null,
      "grid_column": null,
      "grid_gap": null,
      "grid_row": null,
      "grid_template_areas": null,
      "grid_template_columns": null,
      "grid_template_rows": null,
      "height": null,
      "justify_content": null,
      "justify_items": null,
      "left": null,
      "margin": null,
      "max_height": null,
      "max_width": null,
      "min_height": null,
      "min_width": null,
      "object_fit": null,
      "object_position": null,
      "order": null,
      "overflow": null,
      "overflow_x": null,
      "overflow_y": null,
      "padding": null,
      "right": null,
      "top": null,
      "visibility": null,
      "width": null
     }
    },
    "1bd61f5909ee44f1920a9ac62414fa64": {
     "model_module": "@jupyter-widgets/base",
     "model_module_version": "1.2.0",
     "model_name": "LayoutModel",
     "state": {
      "_model_module": "@jupyter-widgets/base",
      "_model_module_version": "1.2.0",
      "_model_name": "LayoutModel",
      "_view_count": null,
      "_view_module": "@jupyter-widgets/base",
      "_view_module_version": "1.2.0",
      "_view_name": "LayoutView",
      "align_content": null,
      "align_items": null,
      "align_self": null,
      "border": null,
      "bottom": null,
      "display": null,
      "flex": null,
      "flex_flow": null,
      "grid_area": null,
      "grid_auto_columns": null,
      "grid_auto_flow": null,
      "grid_auto_rows": null,
      "grid_column": null,
      "grid_gap": null,
      "grid_row": null,
      "grid_template_areas": null,
      "grid_template_columns": null,
      "grid_template_rows": null,
      "height": null,
      "justify_content": null,
      "justify_items": null,
      "left": null,
      "margin": null,
      "max_height": null,
      "max_width": null,
      "min_height": null,
      "min_width": null,
      "object_fit": null,
      "object_position": null,
      "order": null,
      "overflow": null,
      "overflow_x": null,
      "overflow_y": null,
      "padding": null,
      "right": null,
      "top": null,
      "visibility": null,
      "width": null
     }
    },
    "2d41fd0c25a94b978424b44dab6edd2e": {
     "model_module": "@jupyter-widgets/controls",
     "model_module_version": "1.5.0",
     "model_name": "DescriptionStyleModel",
     "state": {
      "_model_module": "@jupyter-widgets/controls",
      "_model_module_version": "1.5.0",
      "_model_name": "DescriptionStyleModel",
      "_view_count": null,
      "_view_module": "@jupyter-widgets/base",
      "_view_module_version": "1.2.0",
      "_view_name": "StyleView",
      "description_width": ""
     }
    },
    "354a512676fd4539b18ac3b83da18cf2": {
     "model_module": "@jupyter-widgets/controls",
     "model_module_version": "1.5.0",
     "model_name": "DropdownModel",
     "state": {
      "_dom_classes": [],
      "_model_module": "@jupyter-widgets/controls",
      "_model_module_version": "1.5.0",
      "_model_name": "DropdownModel",
      "_options_labels": [
       "Maheesh Theekshana",
       "Dushmantha Chameera",
       "Pramod Madushan",
       "Chamika Karunaratne",
       "Wanindu Hasaranga de Silva",
       "Dasun Shanaka",
       "Dhananjaya de Silva",
       "Lahiru Kumara",
       "Binura Fernando",
       "Kasun Rajitha",
       "Charith Asalanka"
      ],
      "_view_count": null,
      "_view_module": "@jupyter-widgets/controls",
      "_view_module_version": "1.5.0",
      "_view_name": "DropdownView",
      "description": "Bowler:",
      "description_tooltip": null,
      "disabled": false,
      "index": 0,
      "layout": "IPY_MODEL_1b61aea900304096852bc0bec344e96b",
      "style": "IPY_MODEL_2d41fd0c25a94b978424b44dab6edd2e"
     }
    },
    "42471fe9e3a442e5a1dc77400717c01d": {
     "model_module": "@jupyter-widgets/controls",
     "model_module_version": "1.5.0",
     "model_name": "DescriptionStyleModel",
     "state": {
      "_model_module": "@jupyter-widgets/controls",
      "_model_module_version": "1.5.0",
      "_model_name": "DescriptionStyleModel",
      "_view_count": null,
      "_view_module": "@jupyter-widgets/base",
      "_view_module_version": "1.2.0",
      "_view_name": "StyleView",
      "description_width": ""
     }
    },
    "42ab4b9b00c54be7b30e012431c4cb5a": {
     "model_module": "@jupyter-widgets/base",
     "model_module_version": "1.2.0",
     "model_name": "LayoutModel",
     "state": {
      "_model_module": "@jupyter-widgets/base",
      "_model_module_version": "1.2.0",
      "_model_name": "LayoutModel",
      "_view_count": null,
      "_view_module": "@jupyter-widgets/base",
      "_view_module_version": "1.2.0",
      "_view_name": "LayoutView",
      "align_content": null,
      "align_items": null,
      "align_self": null,
      "border": null,
      "bottom": null,
      "display": null,
      "flex": null,
      "flex_flow": null,
      "grid_area": null,
      "grid_auto_columns": null,
      "grid_auto_flow": null,
      "grid_auto_rows": null,
      "grid_column": null,
      "grid_gap": null,
      "grid_row": null,
      "grid_template_areas": null,
      "grid_template_columns": null,
      "grid_template_rows": null,
      "height": null,
      "justify_content": null,
      "justify_items": null,
      "left": null,
      "margin": null,
      "max_height": null,
      "max_width": null,
      "min_height": null,
      "min_width": null,
      "object_fit": null,
      "object_position": null,
      "order": null,
      "overflow": null,
      "overflow_x": null,
      "overflow_y": null,
      "padding": null,
      "right": null,
      "top": null,
      "visibility": null,
      "width": null
     }
    },
    "45080abc949a4b478a34578c8a4ea784": {
     "model_module": "@jupyter-widgets/base",
     "model_module_version": "1.2.0",
     "model_name": "LayoutModel",
     "state": {
      "_model_module": "@jupyter-widgets/base",
      "_model_module_version": "1.2.0",
      "_model_name": "LayoutModel",
      "_view_count": null,
      "_view_module": "@jupyter-widgets/base",
      "_view_module_version": "1.2.0",
      "_view_name": "LayoutView",
      "align_content": null,
      "align_items": null,
      "align_self": null,
      "border": null,
      "bottom": null,
      "display": null,
      "flex": null,
      "flex_flow": null,
      "grid_area": null,
      "grid_auto_columns": null,
      "grid_auto_flow": null,
      "grid_auto_rows": null,
      "grid_column": null,
      "grid_gap": null,
      "grid_row": null,
      "grid_template_areas": null,
      "grid_template_columns": null,
      "grid_template_rows": null,
      "height": null,
      "justify_content": null,
      "justify_items": null,
      "left": null,
      "margin": null,
      "max_height": null,
      "max_width": null,
      "min_height": null,
      "min_width": null,
      "object_fit": null,
      "object_position": null,
      "order": null,
      "overflow": null,
      "overflow_x": null,
      "overflow_y": null,
      "padding": null,
      "right": null,
      "top": null,
      "visibility": null,
      "width": null
     }
    },
    "4c6539f0991443aca4983a70b36d0d06": {
     "model_module": "@jupyter-widgets/controls",
     "model_module_version": "1.5.0",
     "model_name": "DescriptionStyleModel",
     "state": {
      "_model_module": "@jupyter-widgets/controls",
      "_model_module_version": "1.5.0",
      "_model_name": "DescriptionStyleModel",
      "_view_count": null,
      "_view_module": "@jupyter-widgets/base",
      "_view_module_version": "1.2.0",
      "_view_name": "StyleView",
      "description_width": ""
     }
    },
    "53a0b346872d44d69b232e9b7f228cb4": {
     "model_module": "@jupyter-widgets/controls",
     "model_module_version": "1.5.0",
     "model_name": "DescriptionStyleModel",
     "state": {
      "_model_module": "@jupyter-widgets/controls",
      "_model_module_version": "1.5.0",
      "_model_name": "DescriptionStyleModel",
      "_view_count": null,
      "_view_module": "@jupyter-widgets/base",
      "_view_module_version": "1.2.0",
      "_view_name": "StyleView",
      "description_width": ""
     }
    },
    "6fb4dfa9207a437694537fb7392538a9": {
     "model_module": "@jupyter-widgets/base",
     "model_module_version": "1.2.0",
     "model_name": "LayoutModel",
     "state": {
      "_model_module": "@jupyter-widgets/base",
      "_model_module_version": "1.2.0",
      "_model_name": "LayoutModel",
      "_view_count": null,
      "_view_module": "@jupyter-widgets/base",
      "_view_module_version": "1.2.0",
      "_view_name": "LayoutView",
      "align_content": null,
      "align_items": null,
      "align_self": null,
      "border": null,
      "bottom": null,
      "display": null,
      "flex": null,
      "flex_flow": null,
      "grid_area": null,
      "grid_auto_columns": null,
      "grid_auto_flow": null,
      "grid_auto_rows": null,
      "grid_column": null,
      "grid_gap": null,
      "grid_row": null,
      "grid_template_areas": null,
      "grid_template_columns": null,
      "grid_template_rows": null,
      "height": null,
      "justify_content": null,
      "justify_items": null,
      "left": null,
      "margin": null,
      "max_height": null,
      "max_width": null,
      "min_height": null,
      "min_width": null,
      "object_fit": null,
      "object_position": null,
      "order": null,
      "overflow": null,
      "overflow_x": null,
      "overflow_y": null,
      "padding": null,
      "right": null,
      "top": null,
      "visibility": null,
      "width": null
     }
    },
    "70d1160649cd4d80bb2b4150727c50cf": {
     "model_module": "@jupyter-widgets/controls",
     "model_module_version": "1.5.0",
     "model_name": "DropdownModel",
     "state": {
      "_dom_classes": [],
      "_model_module": "@jupyter-widgets/controls",
      "_model_module_version": "1.5.0",
      "_model_name": "DropdownModel",
      "_options_labels": [
       "Michael van Lingen",
       "Divan la Cock",
       "Jan Nicol Loftie-Eaton",
       "Stephan Baard",
       "Gerhard Erasmus(c)",
       "Jan Frylinck",
       "David Wiese",
       "JJ Smit",
       "Pathum Nissanka",
       "Kusal Mendisâ€",
       "Dhananjaya de Silva",
       "Danushka Gunathilaka",
       "Bhanuka Rajapaksa",
       "Dasun Shanaka(c)",
       "Wanindu Hasaranga de Silva",
       "Chamika Karunaratne",
       "Pramod Madushan",
       "Dushmantha Chameera",
       "Maheesh Theekshana",
       "Chirag Suri",
       "Muhammad Waseem",
       "Kashif Daud",
       "Vriitya Aravindâ€",
       "Zawar Farid",
       "Basil Hameed",
       "Chundangapoyil Rizwan(c)",
       "Aayan Afzal Khan",
       "Karthik Meiyappan",
       "Junaid Siddique",
       "Vikramjit Singh",
       "Max O'Dowd",
       "Bas de Leede",
       "Colin Ackermann",
       "Tom Cooper",
       "Scott Edwards(c)â€",
       "Roelof van der Merwe",
       "Tim Pringle",
       "Logan van Beek",
       "George Munsey",
       "Michael Jones",
       "Matthew Crossâ€",
       "Richie Berrington(c)",
       "Calum MacLeod",
       "Michael Leask",
       "Chris Greaves",
       "Kyle Mayers",
       "Evin Lewis",
       "Brandon King",
       "Nicholas Pooran(c)â€",
       "Shamarh Brooks",
       "Rovman Powell",
       "Jason Holder",
       "Akeal Hosein",
       "Alzarri Joseph",
       "Odean Smith",
       "Obed McCoy",
       "Regis Chakabvaâ€",
       "Craig Ervine(c)",
       "Wessly Madhevere",
       "Sean Williams",
       "Sikandar Raza",
       "Milton Shumba",
       "Ryan Burl",
       "Luke Jongwe",
       "Paul Stirling",
       "Andy Balbirnie(c)",
       "Lorcan Tuckerâ€",
       "Harry Tector",
       "Curtis Campher",
       "George Dockrell",
       "Gareth Delany",
       "Mark Adair",
       "Simi Singh",
       "Barry McCarthy",
       "Josh Little",
       "Charith Asalanka",
       "Aryan Lakra",
       "Zahoor Khan",
       "Johnson Charles",
       "Regis Chakabva(c)â€",
       "Tony Munyonga",
       "Richard Ngarava",
       "Tendai Chatara",
       "Blessing Muzarabani",
       "Timm van der Gugten",
       "Fred Klaassen",
       "Paul van Meekeren",
       "Alishan Sharafu",
       "Zane Greenâ€",
       "Ruben Trumpelmann",
       "Bernard Scholtz",
       "Josh Davey",
       "Finn Allen",
       "Devon Conwayâ€",
       "Kane Williamson(c)",
       "Glenn Phillips",
       "James Neesham",
       "David Warner",
       "Aaron Finch(c)",
       "Mitchell Marsh",
       "Glenn Maxwell",
       "Marcus Stoinis",
       "Tim David",
       "Matthew Wadeâ€",
       "Pat Cummins",
       "Mitchell Starc",
       "Adam Zampa",
       "Josh Hazlewood",
       "Hazratullah Zazai",
       "Rahmanullah Gurbazâ€",
       "Ibrahim Zadran",
       "Usman Ghani",
       "Najibullah Zadran",
       "Mohammad Nabi(c)",
       "Azmatullah Omarzai",
       "Rashid Khan",
       "Mujeeb Ur Rahman",
       "Fareed Ahmad",
       "Fazalhaq Farooqi",
       "Jos Buttler(c)â€",
       "Alex Hales",
       "Dawid Malan",
       "Ben Stokes",
       "Liam Livingstone",
       "Harry Brook",
       "Moeen Ali",
       "Mohammad Rizwanâ€",
       "Babar Azam(c)",
       "Shan Masood",
       "Iftikhar Ahmed",
       "Shadab Khan",
       "Haider Ali",
       "Mohammad Nawaz",
       "Asif Ali",
       "Shaheen Shah Afridi",
       "Haris Rauf",
       "KL Rahul",
       "Rohit Sharma(c)",
       "Virat Kohli",
       "Suryakumar Yadav",
       "Axar Patel",
       "Hardik Pandya",
       "Dinesh Karthikâ€",
       "Ravichandran Ashwin",
       "Najmul Hossain Shanto",
       "Soumya Sarkar",
       "Litton Das",
       "Shakib Al Hasan(c)",
       "Afif Hossain",
       "Yasir Ali",
       "Nurul Hasanâ€",
       "Mosaddek Hossain",
       "Taskin Ahmed",
       "Hasan Mahmud",
       "Shariz Ahmad",
       "Quinton de Kockâ€",
       "Temba Bavuma(c)",
       "Fionn Hand",
       "Rilee Rossouw",
       "Tristan Stubbs",
       "Aiden Markram",
       "David Miller",
       "Wayne Parnell",
       "Mehidy Hasan Miraz",
       "Mustafizur Rahman",
       "Brad Evans",
       "Mohammad Wasim",
       "Daryl Mitchell",
       "Mitchell Santner",
       "Ish Sodhi",
       "Tim Southee",
       "Kasun Rajitha",
       "Lahiru Kumara",
       "Stephan Myburgh",
       "Fakhar Zaman",
       "Deepak Hooda",
       "Bhuvneshwar Kumar",
       "Mohammed Shami",
       "Arshdeep Singh",
       "Gulbadin Naib",
       "Sam Curran",
       "Mohammad Haris",
       "Naseem Shah",
       "Heinrich Klaasen",
       "Kagiso Rabada",
       "Anrich Nortje",
       "Lungi Ngidi",
       "Tabraiz Shamsi",
       "Cameron Green",
       "Steven Smith",
       "Matthew Wade(c)â€",
       "Kane Richardson",
       "Darwish Rasooli",
       "Naveen-ul-Haq",
       "Chris Woakes",
       "Keshav Maharaj",
       "Nasum Ahmed",
       "Rishabh Pantâ€",
       "Wellington Masakadza",
       "Phil Salt"
      ],
      "_view_count": null,
      "_view_module": "@jupyter-widgets/controls",
      "_view_module_version": "1.5.0",
      "_view_name": "DropdownView",
      "description": "Select Batsman:",
      "description_tooltip": null,
      "disabled": false,
      "index": 29,
      "layout": "IPY_MODEL_b68cdf84211c45d9ba1d522da0589abc",
      "style": "IPY_MODEL_b809ab5a60b04240b4999d5af5cdf8b2"
     }
    },
    "9f5430069c114dbf8dc3e57466a09d91": {
     "model_module": "@jupyter-widgets/base",
     "model_module_version": "1.2.0",
     "model_name": "LayoutModel",
     "state": {
      "_model_module": "@jupyter-widgets/base",
      "_model_module_version": "1.2.0",
      "_model_name": "LayoutModel",
      "_view_count": null,
      "_view_module": "@jupyter-widgets/base",
      "_view_module_version": "1.2.0",
      "_view_name": "LayoutView",
      "align_content": null,
      "align_items": null,
      "align_self": null,
      "border": null,
      "bottom": null,
      "display": null,
      "flex": null,
      "flex_flow": null,
      "grid_area": null,
      "grid_auto_columns": null,
      "grid_auto_flow": null,
      "grid_auto_rows": null,
      "grid_column": null,
      "grid_gap": null,
      "grid_row": null,
      "grid_template_areas": null,
      "grid_template_columns": null,
      "grid_template_rows": null,
      "height": null,
      "justify_content": null,
      "justify_items": null,
      "left": null,
      "margin": null,
      "max_height": null,
      "max_width": null,
      "min_height": null,
      "min_width": null,
      "object_fit": null,
      "object_position": null,
      "order": null,
      "overflow": null,
      "overflow_x": null,
      "overflow_y": null,
      "padding": null,
      "right": null,
      "top": null,
      "visibility": null,
      "width": null
     }
    },
    "b122c90786b4445f8b5e596b0c14e7d6": {
     "model_module": "@jupyter-widgets/controls",
     "model_module_version": "1.5.0",
     "model_name": "DropdownModel",
     "state": {
      "_dom_classes": [],
      "_model_module": "@jupyter-widgets/controls",
      "_model_module_version": "1.5.0",
      "_model_name": "DropdownModel",
      "_options_labels": [
       "Sri Lanka",
       "Namibia",
       "Netherlands",
       "U.A.E.",
       "West Indies",
       "Scotland",
       "Ireland",
       "Zimbabwe",
       "Australia",
       "New Zealand",
       "England",
       "Afghanistan",
       "India",
       "Pakistan",
       "Bangladesh",
       "South Africa"
      ],
      "_view_count": null,
      "_view_module": "@jupyter-widgets/controls",
      "_view_module_version": "1.5.0",
      "_view_name": "DropdownView",
      "description": "Team:",
      "description_tooltip": null,
      "disabled": false,
      "index": 0,
      "layout": "IPY_MODEL_d01c22cf7e1e4e0388b57b6593490f2f",
      "style": "IPY_MODEL_53a0b346872d44d69b232e9b7f228cb4"
     }
    },
    "b68cdf84211c45d9ba1d522da0589abc": {
     "model_module": "@jupyter-widgets/base",
     "model_module_version": "1.2.0",
     "model_name": "LayoutModel",
     "state": {
      "_model_module": "@jupyter-widgets/base",
      "_model_module_version": "1.2.0",
      "_model_name": "LayoutModel",
      "_view_count": null,
      "_view_module": "@jupyter-widgets/base",
      "_view_module_version": "1.2.0",
      "_view_name": "LayoutView",
      "align_content": null,
      "align_items": null,
      "align_self": null,
      "border": null,
      "bottom": null,
      "display": null,
      "flex": null,
      "flex_flow": null,
      "grid_area": null,
      "grid_auto_columns": null,
      "grid_auto_flow": null,
      "grid_auto_rows": null,
      "grid_column": null,
      "grid_gap": null,
      "grid_row": null,
      "grid_template_areas": null,
      "grid_template_columns": null,
      "grid_template_rows": null,
      "height": null,
      "justify_content": null,
      "justify_items": null,
      "left": null,
      "margin": null,
      "max_height": null,
      "max_width": null,
      "min_height": null,
      "min_width": null,
      "object_fit": null,
      "object_position": null,
      "order": null,
      "overflow": null,
      "overflow_x": null,
      "overflow_y": null,
      "padding": null,
      "right": null,
      "top": null,
      "visibility": null,
      "width": null
     }
    },
    "b809ab5a60b04240b4999d5af5cdf8b2": {
     "model_module": "@jupyter-widgets/controls",
     "model_module_version": "1.5.0",
     "model_name": "DescriptionStyleModel",
     "state": {
      "_model_module": "@jupyter-widgets/controls",
      "_model_module_version": "1.5.0",
      "_model_name": "DescriptionStyleModel",
      "_view_count": null,
      "_view_module": "@jupyter-widgets/base",
      "_view_module_version": "1.2.0",
      "_view_name": "StyleView",
      "description_width": ""
     }
    },
    "c14d7b2ce74743baafd9a8b3e870ff88": {
     "model_module": "@jupyter-widgets/controls",
     "model_module_version": "1.5.0",
     "model_name": "DescriptionStyleModel",
     "state": {
      "_model_module": "@jupyter-widgets/controls",
      "_model_module_version": "1.5.0",
      "_model_name": "DescriptionStyleModel",
      "_view_count": null,
      "_view_module": "@jupyter-widgets/base",
      "_view_module_version": "1.2.0",
      "_view_name": "StyleView",
      "description_width": ""
     }
    },
    "d01c22cf7e1e4e0388b57b6593490f2f": {
     "model_module": "@jupyter-widgets/base",
     "model_module_version": "1.2.0",
     "model_name": "LayoutModel",
     "state": {
      "_model_module": "@jupyter-widgets/base",
      "_model_module_version": "1.2.0",
      "_model_name": "LayoutModel",
      "_view_count": null,
      "_view_module": "@jupyter-widgets/base",
      "_view_module_version": "1.2.0",
      "_view_name": "LayoutView",
      "align_content": null,
      "align_items": null,
      "align_self": null,
      "border": null,
      "bottom": null,
      "display": null,
      "flex": null,
      "flex_flow": null,
      "grid_area": null,
      "grid_auto_columns": null,
      "grid_auto_flow": null,
      "grid_auto_rows": null,
      "grid_column": null,
      "grid_gap": null,
      "grid_row": null,
      "grid_template_areas": null,
      "grid_template_columns": null,
      "grid_template_rows": null,
      "height": null,
      "justify_content": null,
      "justify_items": null,
      "left": null,
      "margin": null,
      "max_height": null,
      "max_width": null,
      "min_height": null,
      "min_width": null,
      "object_fit": null,
      "object_position": null,
      "order": null,
      "overflow": null,
      "overflow_x": null,
      "overflow_y": null,
      "padding": null,
      "right": null,
      "top": null,
      "visibility": null,
      "width": null
     }
    },
    "d7e61be6cecf483ba4c27053db2dadbe": {
     "model_module": "@jupyter-widgets/controls",
     "model_module_version": "1.5.0",
     "model_name": "DropdownModel",
     "state": {
      "_dom_classes": [],
      "_model_module": "@jupyter-widgets/controls",
      "_model_module_version": "1.5.0",
      "_model_name": "DropdownModel",
      "_options_labels": [
       "David Warner",
       "Aaron Finch(c)",
       "Mitchell Marsh",
       "Glenn Maxwell",
       "Marcus Stoinis",
       "Tim David",
       "Matthew Wadeâ€",
       "Pat Cummins",
       "Mitchell Starc",
       "Adam Zampa",
       "Josh Hazlewood",
       "Cameron Green",
       "Steven Smith",
       "Matthew Wade(c)â€",
       "Kane Richardson"
      ],
      "_view_count": null,
      "_view_module": "@jupyter-widgets/controls",
      "_view_module_version": "1.5.0",
      "_view_name": "DropdownView",
      "description": "Select Player:",
      "description_tooltip": null,
      "disabled": false,
      "index": 0,
      "layout": "IPY_MODEL_42ab4b9b00c54be7b30e012431c4cb5a",
      "style": "IPY_MODEL_42471fe9e3a442e5a1dc77400717c01d"
     }
    },
    "d900880e356a4769864aa61949cec76c": {
     "model_module": "@jupyter-widgets/controls",
     "model_module_version": "1.5.0",
     "model_name": "VBoxModel",
     "state": {
      "_dom_classes": [
       "widget-interact"
      ],
      "_model_module": "@jupyter-widgets/controls",
      "_model_module_version": "1.5.0",
      "_model_name": "VBoxModel",
      "_view_count": null,
      "_view_module": "@jupyter-widgets/controls",
      "_view_module_version": "1.5.0",
      "_view_name": "VBoxView",
      "box_style": "",
      "children": [
       "IPY_MODEL_b122c90786b4445f8b5e596b0c14e7d6",
       "IPY_MODEL_354a512676fd4539b18ac3b83da18cf2",
       "IPY_MODEL_e6a6b589a155456194bd71a3b075aeb5"
      ],
      "layout": "IPY_MODEL_6fb4dfa9207a437694537fb7392538a9"
     }
    },
    "da7984f191f146a4ac53562237ceefb4": {
     "model_module": "@jupyter-widgets/base",
     "model_module_version": "1.2.0",
     "model_name": "LayoutModel",
     "state": {
      "_model_module": "@jupyter-widgets/base",
      "_model_module_version": "1.2.0",
      "_model_name": "LayoutModel",
      "_view_count": null,
      "_view_module": "@jupyter-widgets/base",
      "_view_module_version": "1.2.0",
      "_view_name": "LayoutView",
      "align_content": null,
      "align_items": null,
      "align_self": null,
      "border": null,
      "bottom": null,
      "display": null,
      "flex": null,
      "flex_flow": null,
      "grid_area": null,
      "grid_auto_columns": null,
      "grid_auto_flow": null,
      "grid_auto_rows": null,
      "grid_column": null,
      "grid_gap": null,
      "grid_row": null,
      "grid_template_areas": null,
      "grid_template_columns": null,
      "grid_template_rows": null,
      "height": null,
      "justify_content": null,
      "justify_items": null,
      "left": null,
      "margin": null,
      "max_height": null,
      "max_width": null,
      "min_height": null,
      "min_width": null,
      "object_fit": null,
      "object_position": null,
      "order": null,
      "overflow": null,
      "overflow_x": null,
      "overflow_y": null,
      "padding": null,
      "right": null,
      "top": null,
      "visibility": null,
      "width": null
     }
    },
    "e49d1dab49fa42e39e2de415e0b34b98": {
     "model_module": "@jupyter-widgets/controls",
     "model_module_version": "1.5.0",
     "model_name": "DropdownModel",
     "state": {
      "_dom_classes": [],
      "_model_module": "@jupyter-widgets/controls",
      "_model_module_version": "1.5.0",
      "_model_name": "DropdownModel",
      "_options_labels": [
       "Sri Lanka",
       "Namibia",
       "Netherlands",
       "U.A.E.",
       "West Indies",
       "Scotland",
       "Ireland",
       "Zimbabwe",
       "Australia",
       "New Zealand",
       "England",
       "Afghanistan",
       "India",
       "Pakistan",
       "Bangladesh",
       "South Africa"
      ],
      "_view_count": null,
      "_view_module": "@jupyter-widgets/controls",
      "_view_module_version": "1.5.0",
      "_view_name": "DropdownView",
      "description": "Team:",
      "description_tooltip": null,
      "disabled": false,
      "index": 8,
      "layout": "IPY_MODEL_45080abc949a4b478a34578c8a4ea784",
      "style": "IPY_MODEL_c14d7b2ce74743baafd9a8b3e870ff88"
     }
    },
    "e6a6b589a155456194bd71a3b075aeb5": {
     "model_module": "@jupyter-widgets/output",
     "model_module_version": "1.0.0",
     "model_name": "OutputModel",
     "state": {
      "_dom_classes": [],
      "_model_module": "@jupyter-widgets/output",
      "_model_module_version": "1.0.0",
      "_model_name": "OutputModel",
      "_view_count": null,
      "_view_module": "@jupyter-widgets/output",
      "_view_module_version": "1.0.0",
      "_view_name": "OutputView",
      "layout": "IPY_MODEL_9f5430069c114dbf8dc3e57466a09d91",
      "msg_id": "",
      "outputs": [
       {
        "data": {
         "image/png": "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\n",
         "text/plain": "<Figure size 1000x600 with 1 Axes>"
        },
        "metadata": {},
        "output_type": "display_data"
       }
      ]
     }
    },
    "eac3bde931344507ac8c3cf9535afb44": {
     "model_module": "@jupyter-widgets/base",
     "model_module_version": "1.2.0",
     "model_name": "LayoutModel",
     "state": {
      "_model_module": "@jupyter-widgets/base",
      "_model_module_version": "1.2.0",
      "_model_name": "LayoutModel",
      "_view_count": null,
      "_view_module": "@jupyter-widgets/base",
      "_view_module_version": "1.2.0",
      "_view_name": "LayoutView",
      "align_content": null,
      "align_items": null,
      "align_self": null,
      "border": null,
      "bottom": null,
      "display": null,
      "flex": null,
      "flex_flow": null,
      "grid_area": null,
      "grid_auto_columns": null,
      "grid_auto_flow": null,
      "grid_auto_rows": null,
      "grid_column": null,
      "grid_gap": null,
      "grid_row": null,
      "grid_template_areas": null,
      "grid_template_columns": null,
      "grid_template_rows": null,
      "height": null,
      "justify_content": null,
      "justify_items": null,
      "left": null,
      "margin": null,
      "max_height": null,
      "max_width": null,
      "min_height": null,
      "min_width": null,
      "object_fit": null,
      "object_position": null,
      "order": null,
      "overflow": null,
      "overflow_x": null,
      "overflow_y": null,
      "padding": null,
      "right": null,
      "top": null,
      "visibility": null,
      "width": null
     }
    },
    "eeb3ae1623894b1790e18476f26bfa83": {
     "model_module": "@jupyter-widgets/controls",
     "model_module_version": "1.5.0",
     "model_name": "VBoxModel",
     "state": {
      "_dom_classes": [
       "widget-interact"
      ],
      "_model_module": "@jupyter-widgets/controls",
      "_model_module_version": "1.5.0",
      "_model_name": "VBoxModel",
      "_view_count": null,
      "_view_module": "@jupyter-widgets/controls",
      "_view_module_version": "1.5.0",
      "_view_name": "VBoxView",
      "box_style": "",
      "children": [
       "IPY_MODEL_e49d1dab49fa42e39e2de415e0b34b98",
       "IPY_MODEL_f8aa3f4ed2034931a3de106e8a1b1f92"
      ],
      "layout": "IPY_MODEL_1bd61f5909ee44f1920a9ac62414fa64"
     }
    },
    "f8aa3f4ed2034931a3de106e8a1b1f92": {
     "model_module": "@jupyter-widgets/output",
     "model_module_version": "1.0.0",
     "model_name": "OutputModel",
     "state": {
      "_dom_classes": [],
      "_model_module": "@jupyter-widgets/output",
      "_model_module_version": "1.0.0",
      "_model_name": "OutputModel",
      "_view_count": null,
      "_view_module": "@jupyter-widgets/output",
      "_view_module_version": "1.0.0",
      "_view_name": "OutputView",
      "layout": "IPY_MODEL_da7984f191f146a4ac53562237ceefb4",
      "msg_id": "",
      "outputs": [
       {
        "data": {
         "image/png": "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\n",
         "text/plain": "<Figure size 1200x800 with 1 Axes>"
        },
        "metadata": {},
        "output_type": "display_data"
       }
      ]
     }
    }
   }
  }
 },
 "nbformat": 4,
 "nbformat_minor": 5
}
